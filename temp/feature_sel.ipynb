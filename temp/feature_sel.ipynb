{
 "cells": [
  {
   "cell_type": "code",
   "execution_count": 1,
   "metadata": {},
   "outputs": [],
   "source": [
    "import pandas as pd\n",
    "from sklearn.feature_selection import SelectKBest\n",
    "from sklearn.feature_selection import chi2\n",
    "from sklearn.feature_selection import f_classif\n",
    "from sklearn.feature_selection import VarianceThreshold\n",
    "import numpy as np"
   ]
  },
  {
   "cell_type": "code",
   "execution_count": 2,
   "metadata": {},
   "outputs": [],
   "source": [
    "df = pd.read_csv(\"30.csv\")"
   ]
  },
  {
   "cell_type": "code",
   "execution_count": 2,
   "metadata": {},
   "outputs": [
    {
     "name": "stdout",
     "output_type": "stream",
     "text": [
      "['$DATE|ADV|VERB+*' '$DATE|ADV|NOUN' '$DATE|ADV|NOUN+*' '$DATE|ADV|ADJ'\n",
      " '$DATE|ADV|ADJ+*']\n"
     ]
    },
    {
     "name": "stderr",
     "output_type": "stream",
     "text": [
      "/home/simret/miniconda3/envs/py39/lib/python3.9/site-packages/sklearn/feature_selection/_univariate_selection.py:108: RuntimeWarning: invalid value encountered in true_divide\n",
      "  msb = ssbn / float(dfbn)\n"
     ]
    }
   ],
   "source": [
    "df = pd.read_csv(\"res.csv\")\n",
    "inputs = df.iloc[:,3:].values\n",
    "outs = df[\"labels\"].values\n",
    "\n",
    "\n",
    "\n",
    "selector = SelectKBest(f_classif, k=5)\n",
    "X_new = selector.fit_transform(inputs, outs)\n",
    "cols = selector.get_support(indices=True)\n",
    "selected_patterns = np.take(df.columns.values,[x+3 for x in cols] )\n",
    "print(selected_patterns)"
   ]
  },
  {
   "cell_type": "code",
   "execution_count": 3,
   "metadata": {},
   "outputs": [
    {
     "data": {
      "text/plain": [
       "Index(['id', 'labels', 'sentences', 'PRON', 'VERB', 'PROPN', 'PROPN|PRON',\n",
       "       'PROPN|VERB', 'PROPN|NOUN', 'PROPN|ADJ',\n",
       "       ...\n",
       "       '$DATE|ADJ', '$DATE|ADV', '$DATE|ADV|PRON', '$DATE|ADV|PRON+*',\n",
       "       '$DATE|ADV|VERB', '$DATE|ADV|VERB+*', '$DATE|ADV|NOUN',\n",
       "       '$DATE|ADV|NOUN+*', '$DATE|ADV|ADJ', '$DATE|ADV|ADJ+*'],\n",
       "      dtype='object', length=121)"
      ]
     },
     "execution_count": 3,
     "metadata": {},
     "output_type": "execute_result"
    }
   ],
   "source": [
    "df.columns"
   ]
  },
  {
   "cell_type": "code",
   "execution_count": 14,
   "metadata": {},
   "outputs": [],
   "source": [
    "\n",
    "df_new = df.select_dtypes(include='number')"
   ]
  },
  {
   "cell_type": "code",
   "execution_count": 15,
   "metadata": {},
   "outputs": [
    {
     "data": {
      "text/plain": [
       "Index(['labels', 'PROPN', 'PROPN+NOUN', 'PROPN+*+NOUN', 'PROPN+*+[deal]',\n",
       "       'PROPN+*+[deal]|NOUN', 'PROPN+[deal]', 'PROPN|NUM', 'PROPN|NUM+NOUN',\n",
       "       'PROPN|NUM+*+NOUN',\n",
       "       ...\n",
       "       '$MONEY|[price]+*+PRON+VERB', '$MONEY|[price]+*+PRON', '$MONEY|[deal]',\n",
       "       '$MONEY|[discount]', '$MONEY|[time]', '$MONEY|[time]+NOUN',\n",
       "       '$MONEY|[time]+*+NOUN', '$MONEY|$ORDINAL', '$MONEY|$ORDINAL+NOUN',\n",
       "       '$MONEY|$ORDINAL+*+NOUN'],\n",
       "      dtype='object', length=149)"
      ]
     },
     "execution_count": 15,
     "metadata": {},
     "output_type": "execute_result"
    }
   ],
   "source": [
    "df_new.columns"
   ]
  },
  {
   "cell_type": "code",
   "execution_count": 16,
   "metadata": {},
   "outputs": [],
   "source": [
    "matrix = df_new.corr().abs()"
   ]
  },
  {
   "cell_type": "code",
   "execution_count": 17,
   "metadata": {},
   "outputs": [],
   "source": [
    "mask = np.triu(np.ones_like(matrix, dtype=bool))\n",
    "\n",
    "reduced_matrix = matrix.mask(mask)"
   ]
  },
  {
   "cell_type": "code",
   "execution_count": 18,
   "metadata": {},
   "outputs": [
    {
     "data": {
      "text/html": [
       "<div>\n",
       "<style scoped>\n",
       "    .dataframe tbody tr th:only-of-type {\n",
       "        vertical-align: middle;\n",
       "    }\n",
       "\n",
       "    .dataframe tbody tr th {\n",
       "        vertical-align: top;\n",
       "    }\n",
       "\n",
       "    .dataframe thead th {\n",
       "        text-align: right;\n",
       "    }\n",
       "</style>\n",
       "<table border=\"1\" class=\"dataframe\">\n",
       "  <thead>\n",
       "    <tr style=\"text-align: right;\">\n",
       "      <th></th>\n",
       "      <th>labels</th>\n",
       "      <th>PROPN</th>\n",
       "      <th>PROPN+NOUN</th>\n",
       "      <th>PROPN+*+NOUN</th>\n",
       "      <th>PROPN+*+[deal]</th>\n",
       "    </tr>\n",
       "  </thead>\n",
       "  <tbody>\n",
       "    <tr>\n",
       "      <th>labels</th>\n",
       "      <td>NaN</td>\n",
       "      <td>NaN</td>\n",
       "      <td>NaN</td>\n",
       "      <td>NaN</td>\n",
       "      <td>NaN</td>\n",
       "    </tr>\n",
       "    <tr>\n",
       "      <th>PROPN</th>\n",
       "      <td>0.067267</td>\n",
       "      <td>NaN</td>\n",
       "      <td>NaN</td>\n",
       "      <td>NaN</td>\n",
       "      <td>NaN</td>\n",
       "    </tr>\n",
       "    <tr>\n",
       "      <th>PROPN+NOUN</th>\n",
       "      <td>0.212351</td>\n",
       "      <td>0.371391</td>\n",
       "      <td>NaN</td>\n",
       "      <td>NaN</td>\n",
       "      <td>NaN</td>\n",
       "    </tr>\n",
       "    <tr>\n",
       "      <th>PROPN+*+NOUN</th>\n",
       "      <td>0.156957</td>\n",
       "      <td>0.666667</td>\n",
       "      <td>0.557086</td>\n",
       "      <td>NaN</td>\n",
       "      <td>NaN</td>\n",
       "    </tr>\n",
       "    <tr>\n",
       "      <th>PROPN+*+[deal]</th>\n",
       "      <td>0.212351</td>\n",
       "      <td>0.371391</td>\n",
       "      <td>1.000000</td>\n",
       "      <td>0.557086</td>\n",
       "      <td>NaN</td>\n",
       "    </tr>\n",
       "  </tbody>\n",
       "</table>\n",
       "</div>"
      ],
      "text/plain": [
       "                  labels     PROPN  PROPN+NOUN  PROPN+*+NOUN  PROPN+*+[deal]\n",
       "labels               NaN       NaN         NaN           NaN             NaN\n",
       "PROPN           0.067267       NaN         NaN           NaN             NaN\n",
       "PROPN+NOUN      0.212351  0.371391         NaN           NaN             NaN\n",
       "PROPN+*+NOUN    0.156957  0.666667    0.557086           NaN             NaN\n",
       "PROPN+*+[deal]  0.212351  0.371391    1.000000      0.557086             NaN"
      ]
     },
     "execution_count": 18,
     "metadata": {},
     "output_type": "execute_result"
    }
   ],
   "source": [
    "reduced_matrix.iloc[:5,:5]"
   ]
  },
  {
   "cell_type": "code",
   "execution_count": 19,
   "metadata": {},
   "outputs": [],
   "source": [
    "to_drop = [c for c in reduced_matrix.columns if any(reduced_matrix[c] ==1)]"
   ]
  },
  {
   "cell_type": "code",
   "execution_count": 20,
   "metadata": {},
   "outputs": [
    {
     "data": {
      "text/plain": [
       "['PROPN+NOUN',\n",
       " 'PROPN+*+NOUN',\n",
       " 'PROPN+*+[deal]',\n",
       " 'PROPN+*+[deal]|NOUN',\n",
       " 'PROPN+[deal]',\n",
       " 'PROPN|NUM',\n",
       " 'PROPN|NUM+NOUN',\n",
       " 'PROPN|NUM+*+NOUN',\n",
       " 'PROPN|[price]',\n",
       " 'PROPN|[deal]',\n",
       " 'PROPN|[discount]',\n",
       " 'PROPN|[time]',\n",
       " 'PROPN|[time]+NOUN',\n",
       " 'PROPN|[time]+*+NOUN',\n",
       " 'PROPN|[time]+*+NOUN+ADV',\n",
       " 'PROPN|$MONEY',\n",
       " 'PROPN|$MONEY+NOUN',\n",
       " 'PROPN|$MONEY+*+NOUN',\n",
       " 'PROPN|$ORDINAL+NOUN',\n",
       " 'NUM',\n",
       " 'NUM+NOUN',\n",
       " 'NUM+*+PRON',\n",
       " 'NUM+*+PRON|PROPN',\n",
       " 'NUM+*+PRON|NOUN',\n",
       " 'NUM+*+PRON|$ORG',\n",
       " 'NUM+*+PROPN|PRON',\n",
       " 'NUM+*+PROPN',\n",
       " 'NUM+*+NOUN',\n",
       " 'NUM+*+$ORG|PRON',\n",
       " 'NUM+*+$ORG',\n",
       " 'NUM|[price]',\n",
       " 'NUM|[price]+*+PRON+VERB',\n",
       " 'NUM|[price]+*+PRON',\n",
       " 'NUM|[price]+*+PROPN|PRON',\n",
       " 'NUM|[price]+*+PROPN',\n",
       " 'NUM|[deal]',\n",
       " 'NUM|[discount]',\n",
       " 'NUM|[time]',\n",
       " 'NUM|[time]+NOUN',\n",
       " 'NUM|[time]+*+NOUN',\n",
       " 'NUM|$ORDINAL+NOUN',\n",
       " 'NUM|$ORDINAL+*+NOUN',\n",
       " '[price]+VERB|ADV',\n",
       " '[price]+VERB|AUX',\n",
       " '[price]+ADV|AUX',\n",
       " '[price]+AUX|ADV',\n",
       " '[price]|NUM+*+PRON+VERB',\n",
       " '[price]|NUM+*+PRON',\n",
       " '[price]|[deal]',\n",
       " '[price]|[deal]+*+VERB',\n",
       " '[price]|[deal]+*+VERB|ADV',\n",
       " '[price]|[deal]+*+ADV',\n",
       " '[price]|[deal]+*+ADV|VERB',\n",
       " '[price]|[discount]',\n",
       " '[price]|[discount]+*+ADJ',\n",
       " '[price]|[time]',\n",
       " '[price]|[time]+ADV',\n",
       " '[price]|[time]+*+ADV',\n",
       " '[price]|$MONEY',\n",
       " '[price]|$MONEY+*+PRON+VERB',\n",
       " '[price]|$MONEY+*+PRON',\n",
       " '[price]|$ORDINAL+*+ADJ',\n",
       " '[deal]|[price]+*+VERB|ADV',\n",
       " '[deal]|[discount]',\n",
       " '[deal]|[time]',\n",
       " '[deal]|[time]+*+ADV',\n",
       " '[deal]|$MONEY',\n",
       " '[discount]|[time]',\n",
       " '[discount]|$MONEY',\n",
       " '[time]',\n",
       " '[time]|PROPN+NOUN',\n",
       " '[time]|[price]+ADV',\n",
       " '[time]|$MONEY',\n",
       " '[time]|$MONEY+NOUN',\n",
       " '[time]|$MONEY+*+NOUN',\n",
       " '[time]|$ORG',\n",
       " '[time]|$ORG+NOUN',\n",
       " '$MONEY',\n",
       " '$MONEY+NOUN',\n",
       " '$MONEY+*+PRON+VERB',\n",
       " '$MONEY|[price]+*+PRON+VERB',\n",
       " '$MONEY|[time]+NOUN',\n",
       " '$MONEY|$ORDINAL+NOUN']"
      ]
     },
     "execution_count": 20,
     "metadata": {},
     "output_type": "execute_result"
    }
   ],
   "source": [
    "to_drop"
   ]
  },
  {
   "cell_type": "code",
   "execution_count": 21,
   "metadata": {},
   "outputs": [
    {
     "data": {
      "text/plain": [
       "151"
      ]
     },
     "execution_count": 21,
     "metadata": {},
     "output_type": "execute_result"
    }
   ],
   "source": [
    "len(df.columns.values)"
   ]
  },
  {
   "cell_type": "code",
   "execution_count": 22,
   "metadata": {},
   "outputs": [
    {
     "data": {
      "text/plain": [
       "83"
      ]
     },
     "execution_count": 22,
     "metadata": {},
     "output_type": "execute_result"
    }
   ],
   "source": [
    "len(to_drop)"
   ]
  },
  {
   "cell_type": "code",
   "execution_count": 23,
   "metadata": {},
   "outputs": [
    {
     "data": {
      "text/plain": [
       "(30, 66)"
      ]
     },
     "execution_count": 23,
     "metadata": {},
     "output_type": "execute_result"
    }
   ],
   "source": [
    "df_reduced = df_new.drop(to_drop, axis=1)\n",
    "df_reduced.shape"
   ]
  },
  {
   "cell_type": "code",
   "execution_count": 24,
   "metadata": {},
   "outputs": [],
   "source": [
    "df_reconstructed = df[df_reduced.columns.values]\n",
    "df_reconstructed = df_reconstructed.drop(\"labels\", axis=1)\n",
    "# df_reconstructed[\"id\"] = df['id']\n",
    "# df_reconstructed[\"sentences\"] = df[\"sentences\"]"
   ]
  },
  {
   "cell_type": "code",
   "execution_count": 25,
   "metadata": {},
   "outputs": [
    {
     "name": "stdout",
     "output_type": "stream",
     "text": [
      "['[deal]|[price]' '[discount]|[price]' '[discount]|[deal]'\n",
      " '[time]|[price]' '$MONEY|[price]']\n"
     ]
    }
   ],
   "source": [
    "inputs = df_reconstructed.values\n",
    "outs = df[\"labels\"].values\n",
    "\n",
    "\n",
    "\n",
    "selector = SelectKBest(f_classif, k=5)\n",
    "X_new = selector.fit_transform(inputs, outs)\n",
    "cols = selector.get_support(indices=True)\n",
    "selected_patterns = np.take(df_reconstructed.columns.values,[x for x in cols] )\n",
    "print(selected_patterns)"
   ]
  },
  {
   "cell_type": "code",
   "execution_count": null,
   "metadata": {},
   "outputs": [],
   "source": [
    "import matplotlib.pyplot as plt\n",
    "import seaborn as sns\n",
    "plt.figure(figsize=(16,12))\n",
    "\n",
    "# Create a custom diverging palette\n",
    "cmap = sns.diverging_palette(250, 15, s=75, l=40,\n",
    "                             n=9, center=\"light\", as_cmap=True)\n",
    "\n",
    "_ = sns.heatmap(matrix, center=0, annot=True, \n",
    "                fmt='.2f', square=True, cmap=cmap)"
   ]
  },
  {
   "cell_type": "code",
   "execution_count": 115,
   "metadata": {},
   "outputs": [],
   "source": [
    "from sklearn.metrics import precision_recall_fscore_support\n",
    "collector = {}\n",
    "labels = df['labels']\n",
    "all_cols = df.columns.values[4:]\n",
    "for col in all_cols:\n",
    "    col_selected = df[col]\n",
    "    fscore = precision_recall_fscore_support(labels, col_selected,  average=\"binary\")[2]\n",
    "    collector[col] =  fscore"
   ]
  },
  {
   "cell_type": "code",
   "execution_count": 116,
   "metadata": {},
   "outputs": [],
   "source": [
    "patterns_selected = []"
   ]
  },
  {
   "cell_type": "code",
   "execution_count": 117,
   "metadata": {},
   "outputs": [],
   "source": [
    "collector = {k: v for k, v in sorted(collector.items(), key=lambda item: item[1])}"
   ]
  },
  {
   "cell_type": "code",
   "execution_count": 118,
   "metadata": {},
   "outputs": [],
   "source": [
    "starter = list(collector.keys())[-1]\n"
   ]
  },
  {
   "cell_type": "code",
   "execution_count": 119,
   "metadata": {},
   "outputs": [],
   "source": [
    "corr = df.corr()"
   ]
  },
  {
   "cell_type": "code",
   "execution_count": 120,
   "metadata": {},
   "outputs": [],
   "source": [
    "patterns_selected.append(starter)\n",
    "to_drop = [c for c in corr.columns if corr[starter][c] >= 0.8]\n",
    "df_reduced = df.drop(to_drop, axis=1)"
   ]
  },
  {
   "cell_type": "code",
   "execution_count": 121,
   "metadata": {},
   "outputs": [
    {
     "name": "stderr",
     "output_type": "stream",
     "text": [
      "/tmp/ipykernel_26584/1975192939.py:6: PerformanceWarning: DataFrame is highly fragmented.  This is usually the result of calling `frame.insert` many times, which has poor performance.  Consider joining all columns at once using pd.concat(axis=1) instead. To get a de-fragmented frame, use `newframe = frame.copy()`\n",
      "  df_new[coll] = np.logical_or(df_reduced[coll], df[starter])\n"
     ]
    }
   ],
   "source": [
    "import numpy as np\n",
    "df_new = pd.DataFrame()\n",
    "new_cols = df_reduced.columns.values[4:]\n",
    "for coll in new_cols:\n",
    "    \n",
    "    df_new[coll] = np.logical_or(df_reduced[coll], df[starter])"
   ]
  },
  {
   "cell_type": "code",
   "execution_count": 122,
   "metadata": {},
   "outputs": [
    {
     "data": {
      "text/plain": [
       "(18, 101)"
      ]
     },
     "execution_count": 122,
     "metadata": {},
     "output_type": "execute_result"
    }
   ],
   "source": [
    "df_new.shape"
   ]
  },
  {
   "cell_type": "code",
   "execution_count": 123,
   "metadata": {},
   "outputs": [],
   "source": [
    "new_collector = {}\n",
    "for col in new_cols:\n",
    "    col_selected = df_reduced[col]\n",
    "    fscore = precision_recall_fscore_support(labels, col_selected,  average=\"binary\")[2]\n",
    "    new_collector[col] =  fscore"
   ]
  },
  {
   "cell_type": "code",
   "execution_count": 124,
   "metadata": {},
   "outputs": [
    {
     "data": {
      "text/plain": [
       "('$PERCENT|[pay]', ['$PERCENT|[pay]'])"
      ]
     },
     "execution_count": 124,
     "metadata": {},
     "output_type": "execute_result"
    }
   ],
   "source": [
    "starter, patterns_selected"
   ]
  },
  {
   "cell_type": "code",
   "execution_count": 128,
   "metadata": {},
   "outputs": [],
   "source": [
    "new_collector = {k: v for k, v in sorted(new_collector.items(), key=lambda item: item[1])}\n",
    "new_collector\n",
    "next_starter = list(new_collector.keys())[-1]\n",
    "patterns_selected.append(next_starter)"
   ]
  },
  {
   "cell_type": "code",
   "execution_count": 127,
   "metadata": {},
   "outputs": [
    {
     "data": {
      "text/plain": [
       "'[expensive]|[pay]+*+PRON'"
      ]
     },
     "execution_count": 127,
     "metadata": {},
     "output_type": "execute_result"
    }
   ],
   "source": [
    "next_starter"
   ]
  },
  {
   "cell_type": "code",
   "execution_count": 129,
   "metadata": {},
   "outputs": [],
   "source": [
    "corr = df_reduced.corr()\n",
    "to_drop = [c for c in corr.columns if corr[next_starter][c] >= 0.8]\n",
    "df_reduced = df_reduced.drop(to_drop, axis=1)"
   ]
  },
  {
   "cell_type": "code",
   "execution_count": 131,
   "metadata": {},
   "outputs": [
    {
     "data": {
      "text/plain": [
       "['[pay]|[expensive]',\n",
       " '[pay]|[expensive]+*+PRON',\n",
       " '[pay]|[expensive]+*+PRON+AUX',\n",
       " '[expensive]|[pay]',\n",
       " '[expensive]|[pay]+*+PRON',\n",
       " '[expensive]|[pay]+*+PRON+AUX']"
      ]
     },
     "execution_count": 131,
     "metadata": {},
     "output_type": "execute_result"
    }
   ],
   "source": [
    "to_drop"
   ]
  },
  {
   "cell_type": "code",
   "execution_count": 4,
   "metadata": {},
   "outputs": [
    {
     "name": "stderr",
     "output_type": "stream",
     "text": [
      "/home/simret/miniconda3/envs/py39/lib/python3.9/site-packages/tqdm/auto.py:22: TqdmWarning: IProgress not found. Please update jupyter and ipywidgets. See https://ipywidgets.readthedocs.io/en/stable/user_install.html\n",
      "  from .autonotebook import tqdm as notebook_tqdm\n"
     ]
    }
   ],
   "source": [
    "import torch\n",
    "\n",
    "def train_and_report(patterns, inputs, outputs):\n",
    "    #Change numpy inputs to tensors \n",
    "    outputs = torch.tensor(outputs).reshape(-1,1)\n",
    "    inputs = torch.tensor(inputs)\n",
    "\n",
    "    #train the linear layer for 100 iterations\n",
    "    #100 chosen at random TODO see what a good number is for iteration\n",
    "\n",
    "    net = torch.nn.Linear(inputs.shape[1],1, bias=False)\n",
    "    sigmoid = torch.nn.Sigmoid()\n",
    "\n",
    "    criterion = torch.nn.BCELoss()\n",
    "    optimizer = torch.optim.SGD(net.parameters(), lr=0.1)\n",
    "\n",
    "    losses = []\n",
    "    net.train()\n",
    "    for e in range(100):\n",
    "        optimizer.zero_grad()\n",
    "        o =  sigmoid.forward(net.forward(inputs.float()))\n",
    "            \n",
    "        loss = criterion(o, outputs.float())\n",
    "            \n",
    "        losses.append(loss.sum().item())\n",
    "        loss.backward()\n",
    "            \n",
    "        optimizer.step()\n",
    "    \n",
    "    pred =  sigmoid.forward(net.forward(inputs.float())).detach().numpy()>0.5\n",
    "    labeled_prf = precision_recall_fscore_support(outputs, pred, average=\"weighted\")\n",
    "\n",
    "    fscore = labeled_prf[2]\n",
    "    # print(f\"{patterns}, {fscore}\")\n",
    "\n",
    "\n",
    "    return fscore"
   ]
  },
  {
   "cell_type": "code",
   "execution_count": 5,
   "metadata": {},
   "outputs": [],
   "source": [
    "#imports\n",
    "import numpy as np\n",
    "from sklearn.metrics import precision_recall_fscore_support\n",
    "import pandas as pd\n",
    "\n",
    "# define df, columns, true labels\n",
    "def feature_selector(df):\n",
    "\n",
    "    print(f\"==================================Start of Feature Selection===========================================\")\n",
    "    labels = df['labels']\n",
    "    jj = 0\n",
    "    ### Controller variables\n",
    "    patterns_selected = []\n",
    "    highest_fscore = \"0.0\"\n",
    "    df_subset = pd.DataFrame()\n",
    "    remaining_cols = df.columns.values[4:]\n",
    "\n",
    "\n",
    "\n",
    "    outputs = df[\"labels\"].values\n",
    "    while len(patterns_selected)<10 and len(remaining_cols)>0:\n",
    "        jj += 1\n",
    "        print(f\"Starting iteration {jj} {len(remaining_cols)}\")\n",
    "        #first calculate the fscore\n",
    "        collector = {}\n",
    "        local_max_fscore = \"0.0\"\n",
    "        for col in remaining_cols:\n",
    "            col_selected = df[col].astype('int64')\n",
    "            current_patterns = patterns_selected+[col]\n",
    "            current_df = pd.concat([df_subset, col_selected], axis=1)\n",
    "            inputs = current_df.values\n",
    "            \n",
    "            # fscore = precision_recall_fscore_support(labels, col_selected,  average=\"binary\")[2]\n",
    "            fscore = train_and_report(current_patterns, inputs, outputs)\n",
    "            \n",
    "                \n",
    "            exists = str(fscore) in collector\n",
    "            if(exists):\n",
    "                collector[str(fscore)].append(col)\n",
    "                \n",
    "            else:\n",
    "                collector[str(fscore)] = [col]\n",
    "        #sort and get a pattern with high fscore\n",
    "        selected_starter_pattern = list(collector.values())[-1]\n",
    "        collector = {k: v for k, v in sorted(collector.items(), key=lambda item: item[0])}\n",
    "        current_fscore = list(collector.keys())[-1]\n",
    "\n",
    "        if(current_fscore>highest_fscore):\n",
    "            highest_fscore = current_fscore\n",
    "        else:\n",
    "            # print(f\"{highest_fscore} {current_fscore}, {selected_starter_pattern}\")\n",
    "            break\n",
    "        selected_starter_pattern = list(collector.values())[-1]\n",
    "        # print(selected_starter_pattern)\n",
    "\n",
    "        #Group the correlated ones and pick the shortest\n",
    "        rowss = df[selected_starter_pattern]\n",
    "        correlation = rowss.corr()\n",
    "        correlation.loc[:,:] =  np.tril(correlation, k=-1)\n",
    "        cor = correlation.stack()\n",
    "        ones = cor[cor >=0.8].reset_index().loc[:,['level_0','level_1']]\n",
    "        ones = ones.query('level_0 not in level_1')\n",
    "        grps = list(ones.groupby('level_0').groups.keys())\n",
    "        colls = []\n",
    "        for i in grps:\n",
    "            groups = ones[ones[\"level_0\"]==i].values\n",
    "            set_maker = []\n",
    "            for patterns in groups:\n",
    "                set_maker += patterns.tolist()\n",
    "            colls.append(sorted(set_maker, key=len)[0])\n",
    "            \n",
    "        for selected_starter_pattern in colls:\n",
    "            patterns_selected.append(selected_starter_pattern)\n",
    "            df_subset[selected_starter_pattern] = df[selected_starter_pattern].astype('int64')\n",
    "            try:\n",
    "                selected_starter_series = df[selected_starter_pattern][0]\n",
    "                \n",
    "                corr = df.corr()\n",
    "                to_drop = [c for c in corr.columns if corr[selected_starter_pattern][c] >= 0.8] #0.8 chosen at random\n",
    "                df = df.drop(to_drop, axis=1)\n",
    "\n",
    "                #create a new df with combination of current one\n",
    "                remaining_cols = df.columns.values[4:]\n",
    "                for collumn in remaining_cols:\n",
    "                    df[collumn] = np.logical_or(df[collumn], selected_starter_series)\n",
    "            except:\n",
    "                print(\"We already removed \", selected_starter_pattern)\n",
    "            for coll in remaining_cols:\n",
    "                df[coll] = np.logical_or(df[coll], selected_starter_series)\n",
    "        \n",
    "        print(f\"Finishing iteration {jj} {len(remaining_cols)}, --- {patterns_selected}, {highest_fscore}\")\n",
    "    \n",
    "    print(f\"---------------------------Summary---------------------------\")\n",
    "    print(f\"Patterns {patterns_selected}\")\n",
    "    print(f\"Positive examples \\n{df[df['labels']==1]['sentences'].values}\")\n",
    "    print(f\"Negative examples \\n{df[df['labels']==0]['sentences'].values}\")\n",
    "\n",
    "    print(f\"==================================End of Feature Selection===========================================\")\n",
    "    return patterns_selected\n",
    "\n",
    "\n"
   ]
  },
  {
   "cell_type": "code",
   "execution_count": 14,
   "metadata": {},
   "outputs": [
    {
     "name": "stdout",
     "output_type": "stream",
     "text": [
      "(5, 121)\n",
      "==================================Start of Feature Selection===========================================\n",
      "Starting iteration 1 117\n",
      "Finishing iteration 1 117, --- [], 1.0\n",
      "Starting iteration 2 117\n",
      "---------------------------Summary---------------------------\n",
      "Patterns []\n",
      "Positive examples \n",
      "['Had a really awkward time ordering a beer because nothing on the menu was stocked . '\n",
      " 'I really enjoyed ( non - sarcastically ) having an overpriced drink here because it reminded me of New York . '\n",
      " 'We got here just before the peak lunch crowd on a Saturday morning , and still had to wait 30 minutes , which gave us enough time to find parking down the street . '\n",
      " \"Hence the food is way too pricey for what 's offered \"\n",
      " 'I can not believe someone was not satisfied with the quality of the chicken at this location ! ']\n",
      "Negative examples \n",
      "[]\n",
      "==================================End of Feature Selection===========================================\n"
     ]
    }
   ],
   "source": [
    "import warnings\n",
    "warnings.filterwarnings('ignore')\n",
    "\n",
    "df = pd.read_csv(\"res.csv\")\n",
    "print(df.shape)\n",
    "\n",
    "features = feature_selector(df)"
   ]
  },
  {
   "cell_type": "code",
   "execution_count": null,
   "metadata": {},
   "outputs": [],
   "source": []
  },
  {
   "cell_type": "code",
   "execution_count": null,
   "metadata": {},
   "outputs": [],
   "source": []
  },
  {
   "cell_type": "markdown",
   "metadata": {},
   "source": [
    "# New Approach"
   ]
  },
  {
   "cell_type": "code",
   "execution_count": 31,
   "metadata": {},
   "outputs": [],
   "source": [
    "def feature_selector_2(df, k):\n",
    "    patterns = []\n",
    "    # inputs = df.iloc[:,3:].values\n",
    "    outs = df[\"labels\"].values\n",
    "\n",
    "    for i in range(k):\n",
    "\n",
    "        inputs = df.iloc[:,3:].values\n",
    "        \n",
    "\n",
    "        selector = SelectKBest(f_classif, k=1)\n",
    "        X_new = selector.fit_transform(inputs, outs)\n",
    "        cols = selector.get_support(indices=True)\n",
    "        selected_patterns = np.take(df.columns.values,[x+3 for x in cols] )\n",
    "        #get rid of all features correlated \n",
    "        corr = df.corr()\n",
    "        corr.head()\n",
    "        # print(corr)\n",
    "        # return True\n",
    "        \n",
    "        to_drop = [c for c in corr.columns if corr[selected_patterns[0]][c] >= 0.5 or pd.isnull(corr[selected_patterns[0]][c])] #0.8 chosen at random\n",
    "        # print(\"We will drop \", to_drop)\n",
    "\n",
    "        df = df.drop(to_drop, axis=1)\n",
    "        print(f'picked {selected_patterns[0]}')\n",
    "        \n",
    "        # print(df.shape[1])\n",
    "\n",
    "        \n",
    "        patterns.append(selected_patterns[0])\n",
    "        if(df.shape[1]<=4):\n",
    "            break\n",
    "    return patterns, corr"
   ]
  },
  {
   "cell_type": "code",
   "execution_count": 32,
   "metadata": {},
   "outputs": [
    {
     "name": "stdout",
     "output_type": "stream",
     "text": [
      "picked $DATE|ADV|ADJ+*\n"
     ]
    }
   ],
   "source": [
    "c = feature_selector_2(df, 5)"
   ]
  },
  {
   "cell_type": "code",
   "execution_count": 35,
   "metadata": {},
   "outputs": [
    {
     "data": {
      "text/plain": [
       "labels             NaN\n",
       "PRON               NaN\n",
       "VERB               NaN\n",
       "PROPN              NaN\n",
       "PROPN|PRON         NaN\n",
       "                    ..\n",
       "$DATE|ADV|VERB+*   NaN\n",
       "$DATE|ADV|NOUN     NaN\n",
       "$DATE|ADV|NOUN+*   NaN\n",
       "$DATE|ADV|ADJ      NaN\n",
       "$DATE|ADV|ADJ+*    NaN\n",
       "Name: $DATE|ADV|ADJ+*, Length: 119, dtype: float64"
      ]
     },
     "execution_count": 35,
     "metadata": {},
     "output_type": "execute_result"
    }
   ],
   "source": [
    "c[1][\"$DATE|ADV|ADJ+*\"]"
   ]
  },
  {
   "cell_type": "code",
   "execution_count": 24,
   "metadata": {},
   "outputs": [],
   "source": [
    "corr.to_csv(\"corr.csv\")"
   ]
  },
  {
   "cell_type": "code",
   "execution_count": 30,
   "metadata": {},
   "outputs": [
    {
     "data": {
      "text/plain": [
       "['[price]|[discount][price]|$MONEY[discount]|[price][time]|[price]$MONEY|[price]']"
      ]
     },
     "execution_count": 30,
     "metadata": {},
     "output_type": "execute_result"
    }
   ],
   "source": [
    "['[price]|[discount]' '[price]|$MONEY' '[discount]|[price]'\n",
    " '[time]|[price]' '$MONEY|[price]']"
   ]
  },
  {
   "cell_type": "code",
   "execution_count": 8,
   "metadata": {},
   "outputs": [
    {
     "data": {
      "text/html": [
       "<div>\n",
       "<style scoped>\n",
       "    .dataframe tbody tr th:only-of-type {\n",
       "        vertical-align: middle;\n",
       "    }\n",
       "\n",
       "    .dataframe tbody tr th {\n",
       "        vertical-align: top;\n",
       "    }\n",
       "\n",
       "    .dataframe thead th {\n",
       "        text-align: right;\n",
       "    }\n",
       "</style>\n",
       "<table border=\"1\" class=\"dataframe\">\n",
       "  <thead>\n",
       "    <tr style=\"text-align: right;\">\n",
       "      <th></th>\n",
       "      <th>labels</th>\n",
       "      <th>PROPN</th>\n",
       "      <th>PROPN+NOUN</th>\n",
       "      <th>PROPN+*+NOUN</th>\n",
       "      <th>PROPN+*+[deal]</th>\n",
       "      <th>PROPN+*+[deal]|NOUN</th>\n",
       "      <th>PROPN+[deal]</th>\n",
       "      <th>PROPN|NUM</th>\n",
       "      <th>PROPN|NUM+NOUN</th>\n",
       "      <th>PROPN|NUM+*+NOUN</th>\n",
       "      <th>...</th>\n",
       "      <th>$MONEY|[price]+*+PRON+VERB</th>\n",
       "      <th>$MONEY|[price]+*+PRON</th>\n",
       "      <th>$MONEY|[deal]</th>\n",
       "      <th>$MONEY|[discount]</th>\n",
       "      <th>$MONEY|[time]</th>\n",
       "      <th>$MONEY|[time]+NOUN</th>\n",
       "      <th>$MONEY|[time]+*+NOUN</th>\n",
       "      <th>$MONEY|$ORDINAL</th>\n",
       "      <th>$MONEY|$ORDINAL+NOUN</th>\n",
       "      <th>$MONEY|$ORDINAL+*+NOUN</th>\n",
       "    </tr>\n",
       "  </thead>\n",
       "  <tbody>\n",
       "    <tr>\n",
       "      <th>labels</th>\n",
       "      <td>1.000000</td>\n",
       "      <td>0.067267</td>\n",
       "      <td>0.212351</td>\n",
       "      <td>0.156957</td>\n",
       "      <td>0.212351</td>\n",
       "      <td>0.156957</td>\n",
       "      <td>0.212351</td>\n",
       "      <td>0.161468</td>\n",
       "      <td>-0.145114</td>\n",
       "      <td>-0.030083</td>\n",
       "      <td>...</td>\n",
       "      <td>0.381181</td>\n",
       "      <td>0.381181</td>\n",
       "      <td>5.114083e-01</td>\n",
       "      <td>5.114083e-01</td>\n",
       "      <td>5.114083e-01</td>\n",
       "      <td>0.305625</td>\n",
       "      <td>0.381181</td>\n",
       "      <td>0.330911</td>\n",
       "      <td>0.305625</td>\n",
       "      <td>0.305625</td>\n",
       "    </tr>\n",
       "    <tr>\n",
       "      <th>PROPN</th>\n",
       "      <td>0.067267</td>\n",
       "      <td>1.000000</td>\n",
       "      <td>0.371391</td>\n",
       "      <td>0.666667</td>\n",
       "      <td>0.371391</td>\n",
       "      <td>0.666667</td>\n",
       "      <td>0.371391</td>\n",
       "      <td>0.763763</td>\n",
       "      <td>0.539319</td>\n",
       "      <td>0.670820</td>\n",
       "      <td>...</td>\n",
       "      <td>-0.166667</td>\n",
       "      <td>-0.166667</td>\n",
       "      <td>9.930137e-17</td>\n",
       "      <td>7.447602e-17</td>\n",
       "      <td>4.965068e-17</td>\n",
       "      <td>0.200446</td>\n",
       "      <td>0.111111</td>\n",
       "      <td>0.223607</td>\n",
       "      <td>0.200446</td>\n",
       "      <td>0.200446</td>\n",
       "    </tr>\n",
       "    <tr>\n",
       "      <th>PROPN+NOUN</th>\n",
       "      <td>0.212351</td>\n",
       "      <td>0.371391</td>\n",
       "      <td>1.000000</td>\n",
       "      <td>0.557086</td>\n",
       "      <td>1.000000</td>\n",
       "      <td>0.557086</td>\n",
       "      <td>1.000000</td>\n",
       "      <td>0.283654</td>\n",
       "      <td>0.473432</td>\n",
       "      <td>0.415227</td>\n",
       "      <td>...</td>\n",
       "      <td>-0.061898</td>\n",
       "      <td>-0.061898</td>\n",
       "      <td>4.152274e-01</td>\n",
       "      <td>4.152274e-01</td>\n",
       "      <td>4.152274e-01</td>\n",
       "      <td>0.694808</td>\n",
       "      <td>0.557086</td>\n",
       "      <td>0.415227</td>\n",
       "      <td>0.694808</td>\n",
       "      <td>0.694808</td>\n",
       "    </tr>\n",
       "    <tr>\n",
       "      <th>PROPN+*+NOUN</th>\n",
       "      <td>0.156957</td>\n",
       "      <td>0.666667</td>\n",
       "      <td>0.557086</td>\n",
       "      <td>1.000000</td>\n",
       "      <td>0.557086</td>\n",
       "      <td>1.000000</td>\n",
       "      <td>0.557086</td>\n",
       "      <td>0.509175</td>\n",
       "      <td>0.522976</td>\n",
       "      <td>0.745356</td>\n",
       "      <td>...</td>\n",
       "      <td>-0.111111</td>\n",
       "      <td>-0.111111</td>\n",
       "      <td>1.490712e-01</td>\n",
       "      <td>1.490712e-01</td>\n",
       "      <td>1.490712e-01</td>\n",
       "      <td>0.356348</td>\n",
       "      <td>0.259259</td>\n",
       "      <td>0.447214</td>\n",
       "      <td>0.356348</td>\n",
       "      <td>0.356348</td>\n",
       "    </tr>\n",
       "    <tr>\n",
       "      <th>PROPN+*+[deal]</th>\n",
       "      <td>0.212351</td>\n",
       "      <td>0.371391</td>\n",
       "      <td>1.000000</td>\n",
       "      <td>0.557086</td>\n",
       "      <td>1.000000</td>\n",
       "      <td>0.557086</td>\n",
       "      <td>1.000000</td>\n",
       "      <td>0.283654</td>\n",
       "      <td>0.473432</td>\n",
       "      <td>0.415227</td>\n",
       "      <td>...</td>\n",
       "      <td>-0.061898</td>\n",
       "      <td>-0.061898</td>\n",
       "      <td>4.152274e-01</td>\n",
       "      <td>4.152274e-01</td>\n",
       "      <td>4.152274e-01</td>\n",
       "      <td>0.694808</td>\n",
       "      <td>0.557086</td>\n",
       "      <td>0.415227</td>\n",
       "      <td>0.694808</td>\n",
       "      <td>0.694808</td>\n",
       "    </tr>\n",
       "    <tr>\n",
       "      <th>...</th>\n",
       "      <td>...</td>\n",
       "      <td>...</td>\n",
       "      <td>...</td>\n",
       "      <td>...</td>\n",
       "      <td>...</td>\n",
       "      <td>...</td>\n",
       "      <td>...</td>\n",
       "      <td>...</td>\n",
       "      <td>...</td>\n",
       "      <td>...</td>\n",
       "      <td>...</td>\n",
       "      <td>...</td>\n",
       "      <td>...</td>\n",
       "      <td>...</td>\n",
       "      <td>...</td>\n",
       "      <td>...</td>\n",
       "      <td>...</td>\n",
       "      <td>...</td>\n",
       "      <td>...</td>\n",
       "      <td>...</td>\n",
       "      <td>...</td>\n",
       "    </tr>\n",
       "    <tr>\n",
       "      <th>$MONEY|[time]+NOUN</th>\n",
       "      <td>0.305625</td>\n",
       "      <td>0.200446</td>\n",
       "      <td>0.694808</td>\n",
       "      <td>0.356348</td>\n",
       "      <td>0.694808</td>\n",
       "      <td>0.356348</td>\n",
       "      <td>0.694808</td>\n",
       "      <td>0.116642</td>\n",
       "      <td>0.288278</td>\n",
       "      <td>0.239046</td>\n",
       "      <td>...</td>\n",
       "      <td>-0.089087</td>\n",
       "      <td>-0.089087</td>\n",
       "      <td>2.390457e-01</td>\n",
       "      <td>5.976143e-01</td>\n",
       "      <td>5.976143e-01</td>\n",
       "      <td>1.000000</td>\n",
       "      <td>0.801784</td>\n",
       "      <td>0.597614</td>\n",
       "      <td>1.000000</td>\n",
       "      <td>1.000000</td>\n",
       "    </tr>\n",
       "    <tr>\n",
       "      <th>$MONEY|[time]+*+NOUN</th>\n",
       "      <td>0.381181</td>\n",
       "      <td>0.111111</td>\n",
       "      <td>0.557086</td>\n",
       "      <td>0.259259</td>\n",
       "      <td>0.557086</td>\n",
       "      <td>0.259259</td>\n",
       "      <td>0.557086</td>\n",
       "      <td>0.024246</td>\n",
       "      <td>0.196116</td>\n",
       "      <td>0.149071</td>\n",
       "      <td>...</td>\n",
       "      <td>-0.111111</td>\n",
       "      <td>-0.111111</td>\n",
       "      <td>1.490712e-01</td>\n",
       "      <td>4.472136e-01</td>\n",
       "      <td>7.453560e-01</td>\n",
       "      <td>0.801784</td>\n",
       "      <td>1.000000</td>\n",
       "      <td>0.447214</td>\n",
       "      <td>0.801784</td>\n",
       "      <td>0.801784</td>\n",
       "    </tr>\n",
       "    <tr>\n",
       "      <th>$MONEY|$ORDINAL</th>\n",
       "      <td>0.330911</td>\n",
       "      <td>0.223607</td>\n",
       "      <td>0.415227</td>\n",
       "      <td>0.447214</td>\n",
       "      <td>0.415227</td>\n",
       "      <td>0.447214</td>\n",
       "      <td>0.415227</td>\n",
       "      <td>0.487950</td>\n",
       "      <td>0.350823</td>\n",
       "      <td>0.280000</td>\n",
       "      <td>...</td>\n",
       "      <td>0.447214</td>\n",
       "      <td>0.447214</td>\n",
       "      <td>5.200000e-01</td>\n",
       "      <td>7.600000e-01</td>\n",
       "      <td>7.600000e-01</td>\n",
       "      <td>0.597614</td>\n",
       "      <td>0.447214</td>\n",
       "      <td>1.000000</td>\n",
       "      <td>0.597614</td>\n",
       "      <td>0.597614</td>\n",
       "    </tr>\n",
       "    <tr>\n",
       "      <th>$MONEY|$ORDINAL+NOUN</th>\n",
       "      <td>0.305625</td>\n",
       "      <td>0.200446</td>\n",
       "      <td>0.694808</td>\n",
       "      <td>0.356348</td>\n",
       "      <td>0.694808</td>\n",
       "      <td>0.356348</td>\n",
       "      <td>0.694808</td>\n",
       "      <td>0.116642</td>\n",
       "      <td>0.288278</td>\n",
       "      <td>0.239046</td>\n",
       "      <td>...</td>\n",
       "      <td>-0.089087</td>\n",
       "      <td>-0.089087</td>\n",
       "      <td>2.390457e-01</td>\n",
       "      <td>5.976143e-01</td>\n",
       "      <td>5.976143e-01</td>\n",
       "      <td>1.000000</td>\n",
       "      <td>0.801784</td>\n",
       "      <td>0.597614</td>\n",
       "      <td>1.000000</td>\n",
       "      <td>1.000000</td>\n",
       "    </tr>\n",
       "    <tr>\n",
       "      <th>$MONEY|$ORDINAL+*+NOUN</th>\n",
       "      <td>0.305625</td>\n",
       "      <td>0.200446</td>\n",
       "      <td>0.694808</td>\n",
       "      <td>0.356348</td>\n",
       "      <td>0.694808</td>\n",
       "      <td>0.356348</td>\n",
       "      <td>0.694808</td>\n",
       "      <td>0.116642</td>\n",
       "      <td>0.288278</td>\n",
       "      <td>0.239046</td>\n",
       "      <td>...</td>\n",
       "      <td>-0.089087</td>\n",
       "      <td>-0.089087</td>\n",
       "      <td>2.390457e-01</td>\n",
       "      <td>5.976143e-01</td>\n",
       "      <td>5.976143e-01</td>\n",
       "      <td>1.000000</td>\n",
       "      <td>0.801784</td>\n",
       "      <td>0.597614</td>\n",
       "      <td>1.000000</td>\n",
       "      <td>1.000000</td>\n",
       "    </tr>\n",
       "  </tbody>\n",
       "</table>\n",
       "<p>149 rows × 149 columns</p>\n",
       "</div>"
      ],
      "text/plain": [
       "                          labels     PROPN  PROPN+NOUN  PROPN+*+NOUN  \\\n",
       "labels                  1.000000  0.067267    0.212351      0.156957   \n",
       "PROPN                   0.067267  1.000000    0.371391      0.666667   \n",
       "PROPN+NOUN              0.212351  0.371391    1.000000      0.557086   \n",
       "PROPN+*+NOUN            0.156957  0.666667    0.557086      1.000000   \n",
       "PROPN+*+[deal]          0.212351  0.371391    1.000000      0.557086   \n",
       "...                          ...       ...         ...           ...   \n",
       "$MONEY|[time]+NOUN      0.305625  0.200446    0.694808      0.356348   \n",
       "$MONEY|[time]+*+NOUN    0.381181  0.111111    0.557086      0.259259   \n",
       "$MONEY|$ORDINAL         0.330911  0.223607    0.415227      0.447214   \n",
       "$MONEY|$ORDINAL+NOUN    0.305625  0.200446    0.694808      0.356348   \n",
       "$MONEY|$ORDINAL+*+NOUN  0.305625  0.200446    0.694808      0.356348   \n",
       "\n",
       "                        PROPN+*+[deal]  PROPN+*+[deal]|NOUN  PROPN+[deal]  \\\n",
       "labels                        0.212351             0.156957      0.212351   \n",
       "PROPN                         0.371391             0.666667      0.371391   \n",
       "PROPN+NOUN                    1.000000             0.557086      1.000000   \n",
       "PROPN+*+NOUN                  0.557086             1.000000      0.557086   \n",
       "PROPN+*+[deal]                1.000000             0.557086      1.000000   \n",
       "...                                ...                  ...           ...   \n",
       "$MONEY|[time]+NOUN            0.694808             0.356348      0.694808   \n",
       "$MONEY|[time]+*+NOUN          0.557086             0.259259      0.557086   \n",
       "$MONEY|$ORDINAL               0.415227             0.447214      0.415227   \n",
       "$MONEY|$ORDINAL+NOUN          0.694808             0.356348      0.694808   \n",
       "$MONEY|$ORDINAL+*+NOUN        0.694808             0.356348      0.694808   \n",
       "\n",
       "                        PROPN|NUM  PROPN|NUM+NOUN  PROPN|NUM+*+NOUN  ...  \\\n",
       "labels                   0.161468       -0.145114         -0.030083  ...   \n",
       "PROPN                    0.763763        0.539319          0.670820  ...   \n",
       "PROPN+NOUN               0.283654        0.473432          0.415227  ...   \n",
       "PROPN+*+NOUN             0.509175        0.522976          0.745356  ...   \n",
       "PROPN+*+[deal]           0.283654        0.473432          0.415227  ...   \n",
       "...                           ...             ...               ...  ...   \n",
       "$MONEY|[time]+NOUN       0.116642        0.288278          0.239046  ...   \n",
       "$MONEY|[time]+*+NOUN     0.024246        0.196116          0.149071  ...   \n",
       "$MONEY|$ORDINAL          0.487950        0.350823          0.280000  ...   \n",
       "$MONEY|$ORDINAL+NOUN     0.116642        0.288278          0.239046  ...   \n",
       "$MONEY|$ORDINAL+*+NOUN   0.116642        0.288278          0.239046  ...   \n",
       "\n",
       "                        $MONEY|[price]+*+PRON+VERB  $MONEY|[price]+*+PRON  \\\n",
       "labels                                    0.381181               0.381181   \n",
       "PROPN                                    -0.166667              -0.166667   \n",
       "PROPN+NOUN                               -0.061898              -0.061898   \n",
       "PROPN+*+NOUN                             -0.111111              -0.111111   \n",
       "PROPN+*+[deal]                           -0.061898              -0.061898   \n",
       "...                                            ...                    ...   \n",
       "$MONEY|[time]+NOUN                       -0.089087              -0.089087   \n",
       "$MONEY|[time]+*+NOUN                     -0.111111              -0.111111   \n",
       "$MONEY|$ORDINAL                           0.447214               0.447214   \n",
       "$MONEY|$ORDINAL+NOUN                     -0.089087              -0.089087   \n",
       "$MONEY|$ORDINAL+*+NOUN                   -0.089087              -0.089087   \n",
       "\n",
       "                        $MONEY|[deal]  $MONEY|[discount]  $MONEY|[time]  \\\n",
       "labels                   5.114083e-01       5.114083e-01   5.114083e-01   \n",
       "PROPN                    9.930137e-17       7.447602e-17   4.965068e-17   \n",
       "PROPN+NOUN               4.152274e-01       4.152274e-01   4.152274e-01   \n",
       "PROPN+*+NOUN             1.490712e-01       1.490712e-01   1.490712e-01   \n",
       "PROPN+*+[deal]           4.152274e-01       4.152274e-01   4.152274e-01   \n",
       "...                               ...                ...            ...   \n",
       "$MONEY|[time]+NOUN       2.390457e-01       5.976143e-01   5.976143e-01   \n",
       "$MONEY|[time]+*+NOUN     1.490712e-01       4.472136e-01   7.453560e-01   \n",
       "$MONEY|$ORDINAL          5.200000e-01       7.600000e-01   7.600000e-01   \n",
       "$MONEY|$ORDINAL+NOUN     2.390457e-01       5.976143e-01   5.976143e-01   \n",
       "$MONEY|$ORDINAL+*+NOUN   2.390457e-01       5.976143e-01   5.976143e-01   \n",
       "\n",
       "                        $MONEY|[time]+NOUN  $MONEY|[time]+*+NOUN  \\\n",
       "labels                            0.305625              0.381181   \n",
       "PROPN                             0.200446              0.111111   \n",
       "PROPN+NOUN                        0.694808              0.557086   \n",
       "PROPN+*+NOUN                      0.356348              0.259259   \n",
       "PROPN+*+[deal]                    0.694808              0.557086   \n",
       "...                                    ...                   ...   \n",
       "$MONEY|[time]+NOUN                1.000000              0.801784   \n",
       "$MONEY|[time]+*+NOUN              0.801784              1.000000   \n",
       "$MONEY|$ORDINAL                   0.597614              0.447214   \n",
       "$MONEY|$ORDINAL+NOUN              1.000000              0.801784   \n",
       "$MONEY|$ORDINAL+*+NOUN            1.000000              0.801784   \n",
       "\n",
       "                        $MONEY|$ORDINAL  $MONEY|$ORDINAL+NOUN  \\\n",
       "labels                         0.330911              0.305625   \n",
       "PROPN                          0.223607              0.200446   \n",
       "PROPN+NOUN                     0.415227              0.694808   \n",
       "PROPN+*+NOUN                   0.447214              0.356348   \n",
       "PROPN+*+[deal]                 0.415227              0.694808   \n",
       "...                                 ...                   ...   \n",
       "$MONEY|[time]+NOUN             0.597614              1.000000   \n",
       "$MONEY|[time]+*+NOUN           0.447214              0.801784   \n",
       "$MONEY|$ORDINAL                1.000000              0.597614   \n",
       "$MONEY|$ORDINAL+NOUN           0.597614              1.000000   \n",
       "$MONEY|$ORDINAL+*+NOUN         0.597614              1.000000   \n",
       "\n",
       "                        $MONEY|$ORDINAL+*+NOUN  \n",
       "labels                                0.305625  \n",
       "PROPN                                 0.200446  \n",
       "PROPN+NOUN                            0.694808  \n",
       "PROPN+*+NOUN                          0.356348  \n",
       "PROPN+*+[deal]                        0.694808  \n",
       "...                                        ...  \n",
       "$MONEY|[time]+NOUN                    1.000000  \n",
       "$MONEY|[time]+*+NOUN                  0.801784  \n",
       "$MONEY|$ORDINAL                       0.597614  \n",
       "$MONEY|$ORDINAL+NOUN                  1.000000  \n",
       "$MONEY|$ORDINAL+*+NOUN                1.000000  \n",
       "\n",
       "[149 rows x 149 columns]"
      ]
     },
     "execution_count": 8,
     "metadata": {},
     "output_type": "execute_result"
    }
   ],
   "source": [
    "corr"
   ]
  },
  {
   "cell_type": "code",
   "execution_count": null,
   "metadata": {},
   "outputs": [],
   "source": []
  }
 ],
 "metadata": {
  "interpreter": {
   "hash": "a25bcad2c992ed4a2be145129017787896f246deb7396e6b823d462a0062482c"
  },
  "kernelspec": {
   "display_name": "Python 3.9.12 ('py39')",
   "language": "python",
   "name": "python3"
  },
  "language_info": {
   "codemirror_mode": {
    "name": "ipython",
    "version": 3
   },
   "file_extension": ".py",
   "mimetype": "text/x-python",
   "name": "python",
   "nbconvert_exporter": "python",
   "pygments_lexer": "ipython3",
   "version": "3.9.12"
  },
  "orig_nbformat": 4
 },
 "nbformat": 4,
 "nbformat_minor": 2
}
