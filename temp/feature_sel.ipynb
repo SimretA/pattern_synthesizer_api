{
 "cells": [
  {
   "cell_type": "code",
   "execution_count": 198,
   "metadata": {},
   "outputs": [],
   "source": [
    "import pandas as pd\n",
    "from sklearn.feature_selection import SelectKBest\n",
    "from sklearn.feature_selection import chi2\n",
    "from sklearn.feature_selection import f_classif\n",
    "from sklearn.feature_selection import VarianceThreshold\n",
    "import numpy as np"
   ]
  },
  {
   "cell_type": "code",
   "execution_count": 2,
   "metadata": {},
   "outputs": [],
   "source": [
    "df = pd.read_csv(\"offen.csv\")"
   ]
  },
  {
   "cell_type": "code",
   "execution_count": 3,
   "metadata": {},
   "outputs": [
    {
     "name": "stdout",
     "output_type": "stream",
     "text": [
      "['[bitch]' '[bitch]|[hoe]' '[bitch]|$LOC' '[hoe]|[bitch]' '$DATE|[bitch]']\n"
     ]
    }
   ],
   "source": [
    "inputs = df.iloc[:,3:].values\n",
    "outs = df[\"labels\"].values\n",
    "\n",
    "\n",
    "\n",
    "selector = SelectKBest(f_classif, k=5)\n",
    "X_new = selector.fit_transform(inputs, outs)\n",
    "cols = selector.get_support(indices=True)\n",
    "selected_patterns = np.take(df.columns.values,[x+3 for x in cols] )\n",
    "print(selected_patterns)"
   ]
  },
  {
   "cell_type": "code",
   "execution_count": 4,
   "metadata": {},
   "outputs": [],
   "source": [
    "\n",
    "df_new = df.select_dtypes(include='number').drop(\"id\", axis = 1)"
   ]
  },
  {
   "cell_type": "code",
   "execution_count": 5,
   "metadata": {},
   "outputs": [],
   "source": [
    "matrix = df_new.corr().abs()"
   ]
  },
  {
   "cell_type": "code",
   "execution_count": 6,
   "metadata": {},
   "outputs": [],
   "source": [
    "mask = np.triu(np.ones_like(matrix, dtype=bool))\n",
    "\n",
    "reduced_matrix = matrix.mask(mask)"
   ]
  },
  {
   "cell_type": "code",
   "execution_count": 7,
   "metadata": {},
   "outputs": [
    {
     "data": {
      "text/html": [
       "<div>\n",
       "<style scoped>\n",
       "    .dataframe tbody tr th:only-of-type {\n",
       "        vertical-align: middle;\n",
       "    }\n",
       "\n",
       "    .dataframe tbody tr th {\n",
       "        vertical-align: top;\n",
       "    }\n",
       "\n",
       "    .dataframe thead th {\n",
       "        text-align: right;\n",
       "    }\n",
       "</style>\n",
       "<table border=\"1\" class=\"dataframe\">\n",
       "  <thead>\n",
       "    <tr style=\"text-align: right;\">\n",
       "      <th></th>\n",
       "      <th>labels</th>\n",
       "      <th>NUM</th>\n",
       "      <th>NUM|[bitch]</th>\n",
       "      <th>NUM|[bitch]+NOUN</th>\n",
       "      <th>NUM|[bitch]+NOUN|AUX</th>\n",
       "    </tr>\n",
       "  </thead>\n",
       "  <tbody>\n",
       "    <tr>\n",
       "      <th>labels</th>\n",
       "      <td>NaN</td>\n",
       "      <td>NaN</td>\n",
       "      <td>NaN</td>\n",
       "      <td>NaN</td>\n",
       "      <td>NaN</td>\n",
       "    </tr>\n",
       "    <tr>\n",
       "      <th>NUM</th>\n",
       "      <td>0.117709</td>\n",
       "      <td>NaN</td>\n",
       "      <td>NaN</td>\n",
       "      <td>NaN</td>\n",
       "      <td>NaN</td>\n",
       "    </tr>\n",
       "    <tr>\n",
       "      <th>NUM|[bitch]</th>\n",
       "      <td>0.445058</td>\n",
       "      <td>0.745356</td>\n",
       "      <td>NaN</td>\n",
       "      <td>NaN</td>\n",
       "      <td>NaN</td>\n",
       "    </tr>\n",
       "    <tr>\n",
       "      <th>NUM|[bitch]+NOUN</th>\n",
       "      <td>0.053504</td>\n",
       "      <td>0.222222</td>\n",
       "      <td>0.248452</td>\n",
       "      <td>NaN</td>\n",
       "      <td>NaN</td>\n",
       "    </tr>\n",
       "    <tr>\n",
       "      <th>NUM|[bitch]+NOUN|AUX</th>\n",
       "      <td>0.110068</td>\n",
       "      <td>0.362030</td>\n",
       "      <td>0.333333</td>\n",
       "      <td>0.745356</td>\n",
       "      <td>NaN</td>\n",
       "    </tr>\n",
       "  </tbody>\n",
       "</table>\n",
       "</div>"
      ],
      "text/plain": [
       "                        labels       NUM  NUM|[bitch]  NUM|[bitch]+NOUN  \\\n",
       "labels                     NaN       NaN          NaN               NaN   \n",
       "NUM                   0.117709       NaN          NaN               NaN   \n",
       "NUM|[bitch]           0.445058  0.745356          NaN               NaN   \n",
       "NUM|[bitch]+NOUN      0.053504  0.222222     0.248452               NaN   \n",
       "NUM|[bitch]+NOUN|AUX  0.110068  0.362030     0.333333          0.745356   \n",
       "\n",
       "                      NUM|[bitch]+NOUN|AUX  \n",
       "labels                                 NaN  \n",
       "NUM                                    NaN  \n",
       "NUM|[bitch]                            NaN  \n",
       "NUM|[bitch]+NOUN                       NaN  \n",
       "NUM|[bitch]+NOUN|AUX                   NaN  "
      ]
     },
     "execution_count": 7,
     "metadata": {},
     "output_type": "execute_result"
    }
   ],
   "source": [
    "reduced_matrix.iloc[:5,:5]"
   ]
  },
  {
   "cell_type": "code",
   "execution_count": 8,
   "metadata": {},
   "outputs": [],
   "source": [
    "to_drop = [c for c in reduced_matrix.columns if any(reduced_matrix[c] ==1)]"
   ]
  },
  {
   "cell_type": "code",
   "execution_count": 9,
   "metadata": {},
   "outputs": [
    {
     "data": {
      "text/plain": [
       "900"
      ]
     },
     "execution_count": 9,
     "metadata": {},
     "output_type": "execute_result"
    }
   ],
   "source": [
    "len(df.columns.values)"
   ]
  },
  {
   "cell_type": "code",
   "execution_count": 10,
   "metadata": {},
   "outputs": [
    {
     "data": {
      "text/plain": [
       "528"
      ]
     },
     "execution_count": 10,
     "metadata": {},
     "output_type": "execute_result"
    }
   ],
   "source": [
    "len(to_drop)"
   ]
  },
  {
   "cell_type": "code",
   "execution_count": 11,
   "metadata": {},
   "outputs": [
    {
     "data": {
      "text/plain": [
       "(112, 370)"
      ]
     },
     "execution_count": 11,
     "metadata": {},
     "output_type": "execute_result"
    }
   ],
   "source": [
    "df_reduced = df_new.drop(to_drop, axis=1)\n",
    "df_reduced.shape"
   ]
  },
  {
   "cell_type": "code",
   "execution_count": 12,
   "metadata": {},
   "outputs": [],
   "source": [
    "df_reconstructed = df[df_reduced.columns.values]\n",
    "df_reconstructed = df_reconstructed.drop(\"labels\", axis=1)\n",
    "# df_reconstructed[\"id\"] = df['id']\n",
    "# df_reconstructed[\"sentences\"] = df[\"sentences\"]"
   ]
  },
  {
   "cell_type": "code",
   "execution_count": 13,
   "metadata": {},
   "outputs": [
    {
     "name": "stdout",
     "output_type": "stream",
     "text": [
      "['[bitch]' '[bitch]|$LOC' '[hoe]|[bitch]' '[get]|[bitch]' '$DATE|[bitch]']\n"
     ]
    }
   ],
   "source": [
    "inputs = df_reconstructed.values\n",
    "outs = df[\"labels\"].values\n",
    "\n",
    "\n",
    "\n",
    "selector = SelectKBest(f_classif, k=5)\n",
    "X_new = selector.fit_transform(inputs, outs)\n",
    "cols = selector.get_support(indices=True)\n",
    "selected_patterns = np.take(df_reconstructed.columns.values,[x for x in cols] )\n",
    "print(selected_patterns)"
   ]
  },
  {
   "cell_type": "code",
   "execution_count": null,
   "metadata": {},
   "outputs": [],
   "source": [
    "import matplotlib.pyplot as plt\n",
    "import seaborn as sns\n",
    "plt.figure(figsize=(16,12))\n",
    "\n",
    "# Create a custom diverging palette\n",
    "cmap = sns.diverging_palette(250, 15, s=75, l=40,\n",
    "                             n=9, center=\"light\", as_cmap=True)\n",
    "\n",
    "_ = sns.heatmap(matrix, center=0, annot=True, \n",
    "                fmt='.2f', square=True, cmap=cmap)"
   ]
  },
  {
   "cell_type": "code",
   "execution_count": 115,
   "metadata": {},
   "outputs": [],
   "source": [
    "from sklearn.metrics import precision_recall_fscore_support\n",
    "collector = {}\n",
    "labels = df['labels']\n",
    "all_cols = df.columns.values[4:]\n",
    "for col in all_cols:\n",
    "    col_selected = df[col]\n",
    "    fscore = precision_recall_fscore_support(labels, col_selected,  average=\"binary\")[2]\n",
    "    collector[col] =  fscore"
   ]
  },
  {
   "cell_type": "code",
   "execution_count": 116,
   "metadata": {},
   "outputs": [],
   "source": [
    "patterns_selected = []"
   ]
  },
  {
   "cell_type": "code",
   "execution_count": 117,
   "metadata": {},
   "outputs": [],
   "source": [
    "collector = {k: v for k, v in sorted(collector.items(), key=lambda item: item[1])}"
   ]
  },
  {
   "cell_type": "code",
   "execution_count": 118,
   "metadata": {},
   "outputs": [],
   "source": [
    "starter = list(collector.keys())[-1]\n"
   ]
  },
  {
   "cell_type": "code",
   "execution_count": 119,
   "metadata": {},
   "outputs": [],
   "source": [
    "corr = df.corr()"
   ]
  },
  {
   "cell_type": "code",
   "execution_count": 120,
   "metadata": {},
   "outputs": [],
   "source": [
    "patterns_selected.append(starter)\n",
    "to_drop = [c for c in corr.columns if corr[starter][c] >= 0.8]\n",
    "df_reduced = df.drop(to_drop, axis=1)"
   ]
  },
  {
   "cell_type": "code",
   "execution_count": 121,
   "metadata": {},
   "outputs": [
    {
     "name": "stderr",
     "output_type": "stream",
     "text": [
      "/tmp/ipykernel_26584/1975192939.py:6: PerformanceWarning: DataFrame is highly fragmented.  This is usually the result of calling `frame.insert` many times, which has poor performance.  Consider joining all columns at once using pd.concat(axis=1) instead. To get a de-fragmented frame, use `newframe = frame.copy()`\n",
      "  df_new[coll] = np.logical_or(df_reduced[coll], df[starter])\n"
     ]
    }
   ],
   "source": [
    "import numpy as np\n",
    "df_new = pd.DataFrame()\n",
    "new_cols = df_reduced.columns.values[4:]\n",
    "for coll in new_cols:\n",
    "    \n",
    "    df_new[coll] = np.logical_or(df_reduced[coll], df[starter])"
   ]
  },
  {
   "cell_type": "code",
   "execution_count": 122,
   "metadata": {},
   "outputs": [
    {
     "data": {
      "text/plain": [
       "(18, 101)"
      ]
     },
     "execution_count": 122,
     "metadata": {},
     "output_type": "execute_result"
    }
   ],
   "source": [
    "df_new.shape"
   ]
  },
  {
   "cell_type": "code",
   "execution_count": 123,
   "metadata": {},
   "outputs": [],
   "source": [
    "new_collector = {}\n",
    "for col in new_cols:\n",
    "    col_selected = df_reduced[col]\n",
    "    fscore = precision_recall_fscore_support(labels, col_selected,  average=\"binary\")[2]\n",
    "    new_collector[col] =  fscore"
   ]
  },
  {
   "cell_type": "code",
   "execution_count": 124,
   "metadata": {},
   "outputs": [
    {
     "data": {
      "text/plain": [
       "('$PERCENT|[pay]', ['$PERCENT|[pay]'])"
      ]
     },
     "execution_count": 124,
     "metadata": {},
     "output_type": "execute_result"
    }
   ],
   "source": [
    "starter, patterns_selected"
   ]
  },
  {
   "cell_type": "code",
   "execution_count": 128,
   "metadata": {},
   "outputs": [],
   "source": [
    "new_collector = {k: v for k, v in sorted(new_collector.items(), key=lambda item: item[1])}\n",
    "new_collector\n",
    "next_starter = list(new_collector.keys())[-1]\n",
    "patterns_selected.append(next_starter)"
   ]
  },
  {
   "cell_type": "code",
   "execution_count": 127,
   "metadata": {},
   "outputs": [
    {
     "data": {
      "text/plain": [
       "'[expensive]|[pay]+*+PRON'"
      ]
     },
     "execution_count": 127,
     "metadata": {},
     "output_type": "execute_result"
    }
   ],
   "source": [
    "next_starter"
   ]
  },
  {
   "cell_type": "code",
   "execution_count": 129,
   "metadata": {},
   "outputs": [],
   "source": [
    "corr = df_reduced.corr()\n",
    "to_drop = [c for c in corr.columns if corr[next_starter][c] >= 0.8]\n",
    "df_reduced = df_reduced.drop(to_drop, axis=1)"
   ]
  },
  {
   "cell_type": "code",
   "execution_count": 131,
   "metadata": {},
   "outputs": [
    {
     "data": {
      "text/plain": [
       "['[pay]|[expensive]',\n",
       " '[pay]|[expensive]+*+PRON',\n",
       " '[pay]|[expensive]+*+PRON+AUX',\n",
       " '[expensive]|[pay]',\n",
       " '[expensive]|[pay]+*+PRON',\n",
       " '[expensive]|[pay]+*+PRON+AUX']"
      ]
     },
     "execution_count": 131,
     "metadata": {},
     "output_type": "execute_result"
    }
   ],
   "source": [
    "to_drop"
   ]
  },
  {
   "cell_type": "code",
   "execution_count": 1,
   "metadata": {},
   "outputs": [
    {
     "name": "stderr",
     "output_type": "stream",
     "text": [
      "/home/simret/miniconda3/envs/py39/lib/python3.9/site-packages/tqdm/auto.py:22: TqdmWarning: IProgress not found. Please update jupyter and ipywidgets. See https://ipywidgets.readthedocs.io/en/stable/user_install.html\n",
      "  from .autonotebook import tqdm as notebook_tqdm\n"
     ]
    }
   ],
   "source": [
    "import torch\n",
    "\n",
    "def train_and_report(patterns, inputs, outputs):\n",
    "    #Change numpy inputs to tensors \n",
    "    outputs = torch.tensor(outputs).reshape(-1,1)\n",
    "    inputs = torch.tensor(inputs)\n",
    "\n",
    "    #train the linear layer for 100 iterations\n",
    "    #100 chosen at random TODO see what a good number is for iteration\n",
    "\n",
    "    net = torch.nn.Linear(inputs.shape[1],1, bias=False)\n",
    "    sigmoid = torch.nn.Sigmoid()\n",
    "\n",
    "    criterion = torch.nn.BCELoss()\n",
    "    optimizer = torch.optim.SGD(net.parameters(), lr=0.1)\n",
    "\n",
    "    losses = []\n",
    "    net.train()\n",
    "    for e in range(100):\n",
    "        optimizer.zero_grad()\n",
    "        o =  sigmoid.forward(net.forward(inputs.float()))\n",
    "            \n",
    "        loss = criterion(o, outputs.float())\n",
    "            \n",
    "        losses.append(loss.sum().item())\n",
    "        loss.backward()\n",
    "            \n",
    "        optimizer.step()\n",
    "    \n",
    "    pred =  sigmoid.forward(net.forward(inputs.float())).detach().numpy()>0.5\n",
    "    labeled_prf = precision_recall_fscore_support(outputs, pred, average=\"weighted\")\n",
    "\n",
    "    fscore = labeled_prf[2]\n",
    "    # print(f\"{patterns}, {fscore}\")\n",
    "\n",
    "\n",
    "    return fscore"
   ]
  },
  {
   "cell_type": "code",
   "execution_count": 14,
   "metadata": {},
   "outputs": [],
   "source": [
    "#imports\n",
    "import numpy as np\n",
    "from sklearn.metrics import precision_recall_fscore_support\n",
    "import pandas as pd\n",
    "\n",
    "# define df, columns, true labels\n",
    "def feature_selector(df):\n",
    "\n",
    "    print(f\"==================================Start of Feature Selection===========================================\")\n",
    "    labels = df['labels']\n",
    "    jj = 0\n",
    "    ### Controller variables\n",
    "    patterns_selected = []\n",
    "    highest_fscore = \"0.0\"\n",
    "    df_subset = pd.DataFrame()\n",
    "    remaining_cols = df.columns.values[4:]\n",
    "\n",
    "\n",
    "\n",
    "    outputs = df[\"labels\"].values\n",
    "    while len(patterns_selected)<10 and len(remaining_cols)>0:\n",
    "        jj += 1\n",
    "        print(f\"Starting iteration {jj} {len(remaining_cols)}\")\n",
    "        #first calculate the fscore\n",
    "        collector = {}\n",
    "        local_max_fscore = \"0.0\"\n",
    "        for col in remaining_cols:\n",
    "            col_selected = df[col].astype('int64')\n",
    "            current_patterns = patterns_selected+[col]\n",
    "            current_df = pd.concat([df_subset, col_selected], axis=1)\n",
    "            inputs = current_df.values\n",
    "            \n",
    "            # fscore = precision_recall_fscore_support(labels, col_selected,  average=\"binary\")[2]\n",
    "            fscore = train_and_report(current_patterns, inputs, outputs)\n",
    "            \n",
    "                \n",
    "            exists = str(fscore) in collector\n",
    "            if(exists):\n",
    "                collector[str(fscore)].append(col)\n",
    "                \n",
    "            else:\n",
    "                collector[str(fscore)] = [col]\n",
    "        #sort and get a pattern with high fscore\n",
    "        selected_starter_pattern = list(collector.values())[-1]\n",
    "        collector = {k: v for k, v in sorted(collector.items(), key=lambda item: item[0])}\n",
    "        current_fscore = list(collector.keys())[-1]\n",
    "\n",
    "        if(current_fscore>highest_fscore):\n",
    "            highest_fscore = current_fscore\n",
    "        else:\n",
    "            # print(f\"{highest_fscore} {current_fscore}, {selected_starter_pattern}\")\n",
    "            break\n",
    "        selected_starter_pattern = list(collector.values())[-1]\n",
    "        # print(selected_starter_pattern)\n",
    "\n",
    "        #Group the correlated ones and pick the shortest\n",
    "        rowss = df[selected_starter_pattern]\n",
    "        correlation = rowss.corr()\n",
    "        correlation.loc[:,:] =  np.tril(correlation, k=-1)\n",
    "        cor = correlation.stack()\n",
    "        ones = cor[cor >=0.8].reset_index().loc[:,['level_0','level_1']]\n",
    "        ones = ones.query('level_0 not in level_1')\n",
    "        grps = list(ones.groupby('level_0').groups.keys())\n",
    "        colls = []\n",
    "        for i in grps:\n",
    "            groups = ones[ones[\"level_0\"]==i].values\n",
    "            set_maker = []\n",
    "            for patterns in groups:\n",
    "                set_maker += patterns.tolist()\n",
    "            colls.append(sorted(set_maker, key=len)[0])\n",
    "            \n",
    "        for selected_starter_pattern in colls:\n",
    "            patterns_selected.append(selected_starter_pattern)\n",
    "            df_subset[selected_starter_pattern] = df[selected_starter_pattern].astype('int64')\n",
    "            try:\n",
    "                selected_starter_series = df[selected_starter_pattern][0]\n",
    "                \n",
    "                corr = df.corr()\n",
    "                to_drop = [c for c in corr.columns if corr[selected_starter_pattern][c] >= 0.8] #0.8 chosen at random\n",
    "                df = df.drop(to_drop, axis=1)\n",
    "\n",
    "                #create a new df with combination of current one\n",
    "                remaining_cols = df.columns.values[4:]\n",
    "                for collumn in remaining_cols:\n",
    "                    df[collumn] = np.logical_or(df[collumn], selected_starter_series)\n",
    "            except:\n",
    "                print(\"We already removed \", selected_starter_pattern)\n",
    "            for coll in remaining_cols:\n",
    "                df[coll] = np.logical_or(df[coll], selected_starter_series)\n",
    "        \n",
    "        print(f\"Finishing iteration {jj} {len(remaining_cols)}, --- {patterns_selected}, {highest_fscore}\")\n",
    "    \n",
    "    print(f\"---------------------------Summary---------------------------\")\n",
    "    print(f\"Patterns {patterns_selected}\")\n",
    "    print(f\"Positive examples \\n{df[df['labels']==1]['sentences'].values}\")\n",
    "    print(f\"Negative examples \\n{df[df['labels']==0]['sentences'].values}\")\n",
    "\n",
    "    print(f\"==================================End of Feature Selection===========================================\")\n",
    "    return patterns_selected\n",
    "\n",
    "\n"
   ]
  },
  {
   "cell_type": "code",
   "execution_count": 27,
   "metadata": {},
   "outputs": [
    {
     "name": "stdout",
     "output_type": "stream",
     "text": [
      "(82, 1371)\n",
      "==================================Start of Feature Selection===========================================\n",
      "Starting iteration 1 1367\n",
      "Finishing iteration 1 1365, --- ['[hoe]|[bitch]'], 0.8790973028777906\n",
      "Starting iteration 2 1365\n",
      "---------------------------Summary---------------------------\n",
      "Patterns ['[hoe]|[bitch]']\n",
      "Positive examples \n",
      "[\"Die twice bitch &#8220;DivaMonRoe2uHoE: Thank you. &#128536; &#8220;07Cannon: DivaMonRoe2uHoE you're the filthiest hoe of all time \"\n",
      " 'RT Priceless_KP: It ain nun to cut dat bitch awf \\n\\n- Verizon'\n",
      " 'lilmenifee__ ohh bitch i gotta go fck with my girl my second lil family frfr'\n",
      " '&#8220;Mix_Mommie: I hate when bitches do that \"who are you talking to\" shit like clearly you.&#8221;I be like \"BITCH WIT DA RED DOOR HOE\"&#128514;&#128514;'\n",
      " 'RT PizzaBeforeHoes: Move dat muscle hoe &#128548; \\n\"Tell me watchu mad foe\"&#128170;&#128514; '\n",
      " \"mel0_yell0w ain't that a bitch.\"\n",
      " \"' South Central niggahs really don't be lovin these hoes , these hoes don't be lovin these niggahs &#1041233; . We just be... \"\n",
      " \"&#8220;Quis_2TurntUp: &#8220;1017_Sqquad: Iont got no type&#8221;bad bitches is the only thing that I like &#128111;&#128131;&#128131;&#8221;aye I'm just living life\"\n",
      " 'Bad lil short fine bitch lil petite sumn' 'King_4_Murphy pussy'\n",
      " \"RT ikesizzle: RT ericajenee_: &#8220;_SheDAzzle: Ike finna have the bitter bitches upsaught&#8221; - and he don't care lmao | not at all\"\n",
      " \"I miss her but I can't bitch I was the one who fucked up, whatever\"\n",
      " \"RT Tahrell: Now, bitches gonna think just because they're married, they're better than every female that's not. Smh\"\n",
      " \"RT ZitlalyL: You don't know maybe some bitches like a man in a tutu &#128514;&#128514;&#128054;\"\n",
      " '&#8220;Traceydee98: I want pussy for dinner&#8221;'\n",
      " 'RobFernau GregAbbott_TX NRA dead babies piled up like trash at a dump Something to be proud of'\n",
      " \"I got a measly 506 followers on Instagram that's probably why these bitches ain't takin me serious\"\n",
      " 'RT CHlLDHOODRUINER: gotta keep these hoes on point '\n",
      " 'RT skankymunter: Pissed in shower, now checking for yellow legs.'\n",
      " 'RT Miss_Jamieeee: &#8220;iDocLyfe: The Power Thrust  really in that hoe omg &#128514;&#128514;&#128527;'\n",
      " \"Pumpkin spice Marlboro's for da hoes\"\n",
      " \"A hoe gone be a hoe they ain't &#128175;\"\n",
      " 'RT LoyalPeopleOnly: Kanye was like... \"If ANY of you bitches even THINK about attacking me in the elevator&#128527;\"\\n\\n'\n",
      " \"RT _KJTheGreat: Four Brothers showed the bitch in a lot of niggas. I would've killed. I would've killed Victor Sweet if I was one of his l&#8230;\"\n",
      " \"RT LeezyTheWarrior: Can't be letting them messy hoes mess with yo business...\"\n",
      " 'thats top off, pop off, im with my dogs like stewie griffin, bitches hear me they be like ooh he rippin'\n",
      " 'Niggas talk more than bitches these days']\n",
      "Negative examples \n",
      "['Roses be red\\nOrchids be bigger \\nDonts tell yo daddy\\nYou fuckin a nigger \\n#VDdie'\n",
      " 'Burn bitch '\n",
      " \"StarkFreeOrDie ...I fuckin' want OUT&gt; I'm tired of this bullshit faggot ass, closet racist, wannabe-commune-without-railroad state&gt; #Cali\"\n",
      " 'EvanDMyers nineinchessoft you have a redneck attitude. The same people that think Benghazzi is real think Fox fake nws is real. Your one'\n",
      " 'Gave her that \"move it lil nigger\" push smh.. '\n",
      " 'RT natal_mendoz: Whore slut cunt bitch nigga'\n",
      " \"Can't take u coons nowhere &amp; I mean nowhere\"\n",
      " \"GlitteredInPink hoe don't tweet me\" 'Matt_Petrie22 geta Life faggot'\n",
      " 'RT AnthonyBialy: Well, Maryland is just a bunch of hateful rednecks, anyway.'\n",
      " \"' Don't sleep on ma niggah CHood &#128076; CharleyHood &#128175;&#128175;\"\n",
      " 'who__CHRISJONES WhyYouSoShort who is dis crack ass cracker'\n",
      " '\"Don\\'t worry about the nigga you see, worry about the nigga you DON\\'T see... Dat\\'s da nigga fuckin yo bitch.\"'\n",
      " 'dantoomey2 fuck you faggot' 'Vanessa is such a fuckin faggot.'\n",
      " 'RT _politeASSHOLE: 4) Only pussy niggas who suck dick cry about someone being in their mentions, tweet the person then cry again about the&#8230;'\n",
      " 'I really just want to kill some towel head terrorists already &#128530; can high school be over now please?'\n",
      " 'Why are some people such faggots? Like were you born that way or are you just that big of a douche bag.'\n",
      " 'The #south of the US is white trash.'\n",
      " 'RT NerdAtCoolTable: RT RealSheemBacc: For every bad bitch there is a nigga who treats them like shit &amp; yet they stay..... I wanna ...'\n",
      " 'Blackman38Tide lmfao go to bed whitey &#128129;'\n",
      " '\"CB_Baby24: white_thunduh alsarabsss\" hes a beaner smh you can tell hes a mexican'\n",
      " 'My neighbors be sick when i wake um up to all this nigger music ctfu'\n",
      " '#BigBird was made by a gay couple. So yes, under a GOP world the bird would not have existed since its creators would be in jail for sodomy.'\n",
      " \"I know I'm a hillbilly, but is there anything better than a big pot of beans and cornbread? Little hot sauce on top.\"\n",
      " \"I can't play flappy bird. It makes me angry.\"\n",
      " \"Do birds have dongs? How do they mate? Help me, I'm an adult who doesn't know how animal sex works!!!\"\n",
      " 'IMNOTMAKINGITUP Hey u just followed me not long ago. Gonna nip that in da bud. like ur bio tho. U know the white devils stole our our'\n",
      " '\"I am a thrill billy..with a hillbilly heart.\" -billyraycyrus. HAHAHAHAHA Jesus Murphy!'\n",
      " \"slayerific13 daisymcgarr Like I said.. I might have to check but I'm just not sure bird shot counts as getting shot.\"\n",
      " 'Mr President &amp; homeland security, please ignore any foreign threats and focus your sole attention on our police force #ACAB #LANDOFTHEFREE'\n",
      " \"Some Jihadi posted a bio of the #ISIS boss Mr Awad with excellent sociological info. Can't thank him/her enough for the gift.\"\n",
      " \"imgooby you're not funny trash\"\n",
      " 'under my windoowww &#8220;brettcanfly: Bleaching your teeth, smiling flash, talking trash, under your breath&#8221;'\n",
      " \"Pepper_Redbone Yankees Mets Exactly by folks who can't favor to get into that lovely old stadium.\"\n",
      " \"MillerCoors Thanks for the follow guys! I'm enjoying a cold yellow belly right now.\"\n",
      " 'Mark Teixeira finally stepping up, HR and couple of BBs #Yankees'\n",
      " 'RT ChamsFace4music: Early bird catches the worm people'\n",
      " '#np Shy Glizzy - Awwsome (Remix) (Feat. 2 Chainz &amp; A$AP Rocky) via Spinrilla. '\n",
      " 'No cuz redskins are dumpster juice RT trackinBlackKev: game of the week. still the best rivalry in sports'\n",
      " \"NotEvanLarkin bbcollins32 birds of a feather flock together y'all &#128037;&#128035;\"\n",
      " \"Wow redskins don't want this\"\n",
      " 'elchavaloko pinche panamonos negros me Dan asco'\n",
      " 'after the steelers lost the superbowl i loaded up the black and yellow gmix on my moms computer, i think the youtube page is still open'\n",
      " \"Charlie Baker for Mass Gov..the most lib newspaper in most lib state supports 'R' for Gov! DoG  via BostonGlobe\"\n",
      " '&#8220;__Black_Jesus: &#8220;lil_aerii: Happy new year &#127882;&#127881;&#127881;&#127881;&#127881;&#127881;&#127881;&#127882;&#127882;&#8221; check yo clock Hun we got another hour lol..&#8221;they just did the lil count down thing'\n",
      " 'almuirSI Probably, yeah. By most accounts, he has the personality to handle it though. And he can wear a yellow suit if he puts up points.'\n",
      " 'RT UberFacts: Mila Kunis has heterochromia iridum which gives her two different colored eyes. One eye is green, the other is brown.'\n",
      " 'Casey Matthews is so trash this is BIG'\n",
      " 'RT EchelonInsights: Rick Scott beating win number in 30 counties, Charlie Crist in 13. #FLGOV'\n",
      " \"RT FriendlyAssh0le: Todays Horoscope: \\n\\nyou're still a hoe\\n\\nThat is all. have a nice day\"\n",
      " 'RT marksidaway: Last time #xfactor auditions came to Dublin, I auditioned MaryByrneMusic and NiallOfficial. And a man in a blue monkey s&#8230;'\n",
      " \"lmaoooo RT ComedyTruth: Girls, don't let a guy treat you like a yellow starburst. You are a pink starburst.\"\n",
      " \"RT Joan_Rivers: Charlie Sheen will star in a new sitcom as an anger management therapist. So what's next? Casey Anthony as the owner of ...\"\n",
      " \"RT delphrano: Berto couldn't KO this dude who wanted to get KO'd&#8230;Berto's trash, Upsher's trash, that fight was trash. #BronerTaylor #Boxing\"]\n",
      "==================================End of Feature Selection===========================================\n"
     ]
    }
   ],
   "source": [
    "import warnings\n",
    "warnings.filterwarnings('ignore')\n",
    "\n",
    "df = pd.read_csv(\"offensive_pats.csv\")\n",
    "print(df.shape)\n",
    "\n",
    "features = feature_selector(df)"
   ]
  },
  {
   "cell_type": "code",
   "execution_count": null,
   "metadata": {},
   "outputs": [],
   "source": []
  },
  {
   "cell_type": "code",
   "execution_count": null,
   "metadata": {},
   "outputs": [],
   "source": []
  }
 ],
 "metadata": {
  "interpreter": {
   "hash": "a25bcad2c992ed4a2be145129017787896f246deb7396e6b823d462a0062482c"
  },
  "kernelspec": {
   "display_name": "Python 3.9.12 ('py39')",
   "language": "python",
   "name": "python3"
  },
  "language_info": {
   "codemirror_mode": {
    "name": "ipython",
    "version": 3
   },
   "file_extension": ".py",
   "mimetype": "text/x-python",
   "name": "python",
   "nbconvert_exporter": "python",
   "pygments_lexer": "ipython3",
   "version": "3.9.12"
  },
  "orig_nbformat": 4
 },
 "nbformat": 4,
 "nbformat_minor": 2
}
