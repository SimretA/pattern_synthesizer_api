{
 "cells": [
  {
   "cell_type": "code",
   "execution_count": 1,
   "metadata": {},
   "outputs": [],
   "source": [
    "import pandas as pd"
   ]
  },
  {
   "cell_type": "code",
   "execution_count": 2,
   "metadata": {},
   "outputs": [],
   "source": [
    "df = pd.read_csv(\"data.csv\")"
   ]
  },
  {
   "cell_type": "code",
   "execution_count": 3,
   "metadata": {},
   "outputs": [],
   "source": [
    "non_hate = df[df[\"class\"]==2][\"tweet\"].values.tolist()\n",
    "hate_speech = df[df[\"class\"]==0][\"tweet\"].values.tolist()\n",
    "offensive = df[df[\"class\"]==1][\"tweet\"].values.tolist()"
   ]
  },
  {
   "cell_type": "code",
   "execution_count": 4,
   "metadata": {},
   "outputs": [],
   "source": [
    "import re\n",
    "pattern = r'@'\n",
    "\n",
    "for i, org_string in enumerate(non_hate):\n",
    "    temp = re.sub(r'http\\S+', '', org_string)\n",
    "    # temp = re.sub('\\W+', '', temp)\n",
    "    non_hate[i] = re.sub(pattern, '', temp)\n",
    "\n",
    "for i, org_string in enumerate(hate_speech):\n",
    "    temp = re.sub(r'http\\S+', '', org_string)\n",
    "    # temp = re.sub('\\W+', '', temp)\n",
    "    hate_speech[i] = re.sub(pattern, '', temp)\n",
    "\n",
    "for i, org_string in enumerate(offensive):\n",
    "    temp = re.sub(r'http\\S+', '', org_string)\n",
    "    # temp = re.sub('\\W+', '', temp)\n",
    "    offensive[i] = re.sub(pattern, '', temp)\n"
   ]
  },
  {
   "cell_type": "code",
   "execution_count": 5,
   "metadata": {},
   "outputs": [
    {
     "data": {
      "text/plain": [
       "24783"
      ]
     },
     "execution_count": 5,
     "metadata": {},
     "output_type": "execute_result"
    }
   ],
   "source": [
    "len(non_hate)+ len(hate_speech)+ len(offensive)"
   ]
  },
  {
   "cell_type": "code",
   "execution_count": 7,
   "metadata": {},
   "outputs": [],
   "source": [
    "import random\n",
    "ids = random.sample(range(0, len(hate_speech)), 200)\n",
    "new_hate = []\n",
    "for id in ids:\n",
    "    new_hate.append(hate_speech[id])\n",
    "\n",
    "ids = random.sample(range(0, len(non_hate)), 200)\n",
    "new_non_hate = []\n",
    "for id in ids:\n",
    "    new_non_hate.append(non_hate[id])\n",
    "\n",
    "ids = random.sample(range(0, len(offensive)), 200)\n",
    "new_offensive = []\n",
    "for id in ids:\n",
    "    new_offensive.append(offensive[id])\n"
   ]
  },
  {
   "cell_type": "code",
   "execution_count": 8,
   "metadata": {},
   "outputs": [],
   "source": [
    "dff = pd.DataFrame()\n",
    "dff[\"example\"] = new_hate+new_non_hate+new_offensive"
   ]
  },
  {
   "cell_type": "code",
   "execution_count": 10,
   "metadata": {},
   "outputs": [],
   "source": [
    "dff[\"label\"] = [\"hate\"]*200 + [\"none\"]*200 + [\"offensive\"]*200"
   ]
  },
  {
   "cell_type": "code",
   "execution_count": 15,
   "metadata": {},
   "outputs": [],
   "source": [
    "dff = dff.sample(dff.shape[0])"
   ]
  },
  {
   "cell_type": "code",
   "execution_count": 17,
   "metadata": {},
   "outputs": [],
   "source": [
    "dff.to_csv(\"hate_speech.csv\")"
   ]
  },
  {
   "cell_type": "code",
   "execution_count": 5,
   "metadata": {},
   "outputs": [],
   "source": [
    "import pandas as pd\n",
    "dff=pd.read_csv(\"hate_speech.csv\")\n",
    "dff[\"positive\"] = dff[\"label\"].apply(lambda x: 0 if x==\"none\" else 1)"
   ]
  },
  {
   "cell_type": "code",
   "execution_count": 7,
   "metadata": {},
   "outputs": [],
   "source": [
    "dff.to_csv(\"hate_speech_binary.csv\")"
   ]
  },
  {
   "cell_type": "code",
   "execution_count": null,
   "metadata": {},
   "outputs": [],
   "source": []
  }
 ],
 "metadata": {
  "interpreter": {
   "hash": "a25bcad2c992ed4a2be145129017787896f246deb7396e6b823d462a0062482c"
  },
  "kernelspec": {
   "display_name": "Python 3.9.12 ('py39')",
   "language": "python",
   "name": "python3"
  },
  "language_info": {
   "codemirror_mode": {
    "name": "ipython",
    "version": 3
   },
   "file_extension": ".py",
   "mimetype": "text/x-python",
   "name": "python",
   "nbconvert_exporter": "python",
   "pygments_lexer": "ipython3",
   "version": "3.9.12"
  },
  "orig_nbformat": 4
 },
 "nbformat": 4,
 "nbformat_minor": 2
}
