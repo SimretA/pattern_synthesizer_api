{
 "cells": [
  {
   "cell_type": "code",
   "execution_count": 1,
   "metadata": {},
   "outputs": [],
   "source": [
    "import pandas as pd"
   ]
  },
  {
   "cell_type": "code",
   "execution_count": 2,
   "metadata": {},
   "outputs": [],
   "source": [
    "df = pd.read_csv(\"data.csv\")"
   ]
  },
  {
   "cell_type": "code",
   "execution_count": 3,
   "metadata": {},
   "outputs": [],
   "source": [
    "non_hate = df[df[\"class\"]==2][\"tweet\"].values.tolist()\n",
    "hate_speech = df[df[\"class\"]==0][\"tweet\"].values.tolist()\n",
    "offensive = df[df[\"class\"]==1][\"tweet\"].values.tolist()"
   ]
  },
  {
   "cell_type": "code",
   "execution_count": 4,
   "metadata": {},
   "outputs": [],
   "source": [
    "import re\n",
    "pattern = r'@'\n",
    "\n",
    "for i, org_string in enumerate(non_hate):\n",
    "    temp = re.sub(r'http\\S+', '', org_string)\n",
    "    # temp = re.sub('\\W+', '', temp)\n",
    "    non_hate[i] = re.sub(pattern, '', temp)\n",
    "\n",
    "for i, org_string in enumerate(hate_speech):\n",
    "    temp = re.sub(r'http\\S+', '', org_string)\n",
    "    # temp = re.sub('\\W+', '', temp)\n",
    "    hate_speech[i] = re.sub(pattern, '', temp)\n",
    "\n",
    "for i, org_string in enumerate(offensive):\n",
    "    temp = re.sub(r'http\\S+', '', org_string)\n",
    "    # temp = re.sub('\\W+', '', temp)\n",
    "    offensive[i] = re.sub(pattern, '', temp)\n"
   ]
  },
  {
   "cell_type": "code",
   "execution_count": 5,
   "metadata": {},
   "outputs": [
    {
     "data": {
      "text/plain": [
       "24783"
      ]
     },
     "execution_count": 5,
     "metadata": {},
     "output_type": "execute_result"
    }
   ],
   "source": [
    "len(non_hate)+ len(hate_speech)+ len(offensive)"
   ]
  },
  {
   "cell_type": "code",
   "execution_count": 7,
   "metadata": {},
   "outputs": [],
   "source": [
    "import random\n",
    "ids = random.sample(range(0, len(hate_speech)), 200)\n",
    "new_hate = []\n",
    "for id in ids:\n",
    "    new_hate.append(hate_speech[id])\n",
    "\n",
    "ids = random.sample(range(0, len(non_hate)), 200)\n",
    "new_non_hate = []\n",
    "for id in ids:\n",
    "    new_non_hate.append(non_hate[id])\n",
    "\n",
    "ids = random.sample(range(0, len(offensive)), 200)\n",
    "new_offensive = []\n",
    "for id in ids:\n",
    "    new_offensive.append(offensive[id])\n"
   ]
  },
  {
   "cell_type": "code",
   "execution_count": 8,
   "metadata": {},
   "outputs": [],
   "source": [
    "dff = pd.DataFrame()\n",
    "dff[\"example\"] = new_hate+new_non_hate+new_offensive"
   ]
  },
  {
   "cell_type": "code",
   "execution_count": 10,
   "metadata": {},
   "outputs": [],
   "source": [
    "dff[\"label\"] = [\"hate\"]*200 + [\"none\"]*200 + [\"offensive\"]*200"
   ]
  },
  {
   "cell_type": "code",
   "execution_count": 15,
   "metadata": {},
   "outputs": [],
   "source": [
    "dff = dff.sample(dff.shape[0])"
   ]
  },
  {
   "cell_type": "code",
   "execution_count": 17,
   "metadata": {},
   "outputs": [],
   "source": [
    "dff.to_csv(\"hate_speech.csv\")"
   ]
  },
  {
   "cell_type": "code",
   "execution_count": 5,
   "metadata": {},
   "outputs": [],
   "source": [
    "import pandas as pd\n",
    "dff=pd.read_csv(\"hate_speech.csv\")\n",
    "dff[\"positive\"] = dff[\"label\"].apply(lambda x: 0 if x==\"none\" else 1)"
   ]
  },
  {
   "cell_type": "code",
   "execution_count": 7,
   "metadata": {},
   "outputs": [],
   "source": [
    "dff.to_csv(\"hate_speech_binary.csv\")"
   ]
  },
  {
   "cell_type": "markdown",
   "metadata": {},
   "source": [
    "# Hatexplain"
   ]
  },
  {
   "cell_type": "code",
   "execution_count": 1,
   "metadata": {},
   "outputs": [],
   "source": [
    "import pandas as pd\n",
    "df_new = pd.DataFrame()\n",
    "df = pd.read_json(\"hatexplain.json\").T"
   ]
  },
  {
   "cell_type": "code",
   "execution_count": 2,
   "metadata": {},
   "outputs": [
    {
     "data": {
      "text/html": [
       "<div>\n",
       "<style scoped>\n",
       "    .dataframe tbody tr th:only-of-type {\n",
       "        vertical-align: middle;\n",
       "    }\n",
       "\n",
       "    .dataframe tbody tr th {\n",
       "        vertical-align: top;\n",
       "    }\n",
       "\n",
       "    .dataframe thead th {\n",
       "        text-align: right;\n",
       "    }\n",
       "</style>\n",
       "<table border=\"1\" class=\"dataframe\">\n",
       "  <thead>\n",
       "    <tr style=\"text-align: right;\">\n",
       "      <th></th>\n",
       "      <th>post_id</th>\n",
       "      <th>annotators</th>\n",
       "      <th>rationales</th>\n",
       "      <th>post_tokens</th>\n",
       "    </tr>\n",
       "  </thead>\n",
       "  <tbody>\n",
       "    <tr>\n",
       "      <th>1179055004553900032_twitter</th>\n",
       "      <td>1179055004553900032_twitter</td>\n",
       "      <td>[{'label': 'normal', 'annotator_id': 1, 'targe...</td>\n",
       "      <td>[]</td>\n",
       "      <td>[i, dont, think, im, getting, my, baby, them, ...</td>\n",
       "    </tr>\n",
       "    <tr>\n",
       "      <th>1179063826874032128_twitter</th>\n",
       "      <td>1179063826874032128_twitter</td>\n",
       "      <td>[{'label': 'normal', 'annotator_id': 1, 'targe...</td>\n",
       "      <td>[]</td>\n",
       "      <td>[we, cannot, continue, calling, ourselves, fem...</td>\n",
       "    </tr>\n",
       "    <tr>\n",
       "      <th>1178793830532956161_twitter</th>\n",
       "      <td>1178793830532956161_twitter</td>\n",
       "      <td>[{'label': 'normal', 'annotator_id': 4, 'targe...</td>\n",
       "      <td>[]</td>\n",
       "      <td>[nawt, yall, niggers, ignoring, me]</td>\n",
       "    </tr>\n",
       "    <tr>\n",
       "      <th>1179088797964763136_twitter</th>\n",
       "      <td>1179088797964763136_twitter</td>\n",
       "      <td>[{'label': 'hatespeech', 'annotator_id': 1, 't...</td>\n",
       "      <td>[[0, 0, 0, 0, 0, 0, 0, 0, 0, 0, 0, 0, 0, 0, 0,...</td>\n",
       "      <td>[&lt;user&gt;, i, am, bit, confused, coz, chinese, p...</td>\n",
       "    </tr>\n",
       "    <tr>\n",
       "      <th>1179085312976445440_twitter</th>\n",
       "      <td>1179085312976445440_twitter</td>\n",
       "      <td>[{'label': 'hatespeech', 'annotator_id': 4, 't...</td>\n",
       "      <td>[[0, 1, 0, 0, 0, 0, 0, 0, 0, 0, 0, 0, 0, 0, 0,...</td>\n",
       "      <td>[this, bitch, in, whataburger, eating, a, burg...</td>\n",
       "    </tr>\n",
       "  </tbody>\n",
       "</table>\n",
       "</div>"
      ],
      "text/plain": [
       "                                                 post_id  \\\n",
       "1179055004553900032_twitter  1179055004553900032_twitter   \n",
       "1179063826874032128_twitter  1179063826874032128_twitter   \n",
       "1178793830532956161_twitter  1178793830532956161_twitter   \n",
       "1179088797964763136_twitter  1179088797964763136_twitter   \n",
       "1179085312976445440_twitter  1179085312976445440_twitter   \n",
       "\n",
       "                                                                    annotators  \\\n",
       "1179055004553900032_twitter  [{'label': 'normal', 'annotator_id': 1, 'targe...   \n",
       "1179063826874032128_twitter  [{'label': 'normal', 'annotator_id': 1, 'targe...   \n",
       "1178793830532956161_twitter  [{'label': 'normal', 'annotator_id': 4, 'targe...   \n",
       "1179088797964763136_twitter  [{'label': 'hatespeech', 'annotator_id': 1, 't...   \n",
       "1179085312976445440_twitter  [{'label': 'hatespeech', 'annotator_id': 4, 't...   \n",
       "\n",
       "                                                                    rationales  \\\n",
       "1179055004553900032_twitter                                                 []   \n",
       "1179063826874032128_twitter                                                 []   \n",
       "1178793830532956161_twitter                                                 []   \n",
       "1179088797964763136_twitter  [[0, 0, 0, 0, 0, 0, 0, 0, 0, 0, 0, 0, 0, 0, 0,...   \n",
       "1179085312976445440_twitter  [[0, 1, 0, 0, 0, 0, 0, 0, 0, 0, 0, 0, 0, 0, 0,...   \n",
       "\n",
       "                                                                   post_tokens  \n",
       "1179055004553900032_twitter  [i, dont, think, im, getting, my, baby, them, ...  \n",
       "1179063826874032128_twitter  [we, cannot, continue, calling, ourselves, fem...  \n",
       "1178793830532956161_twitter                [nawt, yall, niggers, ignoring, me]  \n",
       "1179088797964763136_twitter  [<user>, i, am, bit, confused, coz, chinese, p...  \n",
       "1179085312976445440_twitter  [this, bitch, in, whataburger, eating, a, burg...  "
      ]
     },
     "execution_count": 2,
     "metadata": {},
     "output_type": "execute_result"
    }
   ],
   "source": [
    "df.head(5)"
   ]
  },
  {
   "cell_type": "code",
   "execution_count": 3,
   "metadata": {},
   "outputs": [],
   "source": [
    "df_new[\"id\"] = df[\"post_id\"]"
   ]
  },
  {
   "cell_type": "code",
   "execution_count": 4,
   "metadata": {},
   "outputs": [],
   "source": [
    "df_new[\"sentence\"] = df[\"post_tokens\"].apply(lambda x: \" \".join(x))"
   ]
  },
  {
   "cell_type": "code",
   "execution_count": 5,
   "metadata": {},
   "outputs": [
    {
     "data": {
      "text/plain": [
       "[{'label': 'hatespeech', 'annotator_id': 1, 'target': ['Asian']},\n",
       " {'label': 'offensive', 'annotator_id': 4, 'target': ['Asian']},\n",
       " {'label': 'hatespeech', 'annotator_id': 3, 'target': ['Asian']}]"
      ]
     },
     "execution_count": 5,
     "metadata": {},
     "output_type": "execute_result"
    }
   ],
   "source": [
    "df[\"annotators\"][3]"
   ]
  },
  {
   "cell_type": "code",
   "execution_count": 6,
   "metadata": {},
   "outputs": [],
   "source": [
    "def getlabels(row):\n",
    "    lbls = [x['label'] for x in row]\n",
    "    return list(set(lbls))\n",
    "def getmajorlabel(row):\n",
    "    lbls = [x['label'] for x in row]\n",
    "    return max(lbls, key=lbls.count)"
   ]
  },
  {
   "cell_type": "code",
   "execution_count": 7,
   "metadata": {},
   "outputs": [],
   "source": [
    "df_new[\"lables\"] = df[\"annotators\"].apply(getlabels)"
   ]
  },
  {
   "cell_type": "code",
   "execution_count": 8,
   "metadata": {},
   "outputs": [],
   "source": [
    "df_new[\"label\"] = df[\"annotators\"].apply(getmajorlabel)"
   ]
  },
  {
   "cell_type": "code",
   "execution_count": 11,
   "metadata": {},
   "outputs": [
    {
     "data": {
      "text/plain": [
       "1179055004553900032_twitter    1179055004553900032_twitter\n",
       "1179063826874032128_twitter    1179063826874032128_twitter\n",
       "1178793830532956161_twitter    1178793830532956161_twitter\n",
       "1179088797964763136_twitter    1179088797964763136_twitter\n",
       "1179085312976445440_twitter    1179085312976445440_twitter\n",
       "                                          ...             \n",
       "9989999_gab                                    9989999_gab\n",
       "9990225_gab                                    9990225_gab\n",
       "9991681_gab                                    9991681_gab\n",
       "9992513_gab                                    9992513_gab\n",
       "9998729_gab                                    9998729_gab\n",
       "Name: id, Length: 20148, dtype: object"
      ]
     },
     "execution_count": 11,
     "metadata": {},
     "output_type": "execute_result"
    }
   ],
   "source": [
    "df_new[\"id\"].apply(lambda x: x.split(\" \")[0])"
   ]
  },
  {
   "cell_type": "code",
   "execution_count": 12,
   "metadata": {},
   "outputs": [],
   "source": [
    "df_new.to_csv(\"Hello\")"
   ]
  },
  {
   "cell_type": "code",
   "execution_count": 15,
   "metadata": {},
   "outputs": [
    {
     "data": {
      "text/html": [
       "<div>\n",
       "<style scoped>\n",
       "    .dataframe tbody tr th:only-of-type {\n",
       "        vertical-align: middle;\n",
       "    }\n",
       "\n",
       "    .dataframe tbody tr th {\n",
       "        vertical-align: top;\n",
       "    }\n",
       "\n",
       "    .dataframe thead th {\n",
       "        text-align: right;\n",
       "    }\n",
       "</style>\n",
       "<table border=\"1\" class=\"dataframe\">\n",
       "  <thead>\n",
       "    <tr style=\"text-align: right;\">\n",
       "      <th></th>\n",
       "      <th>sentence</th>\n",
       "      <th>lables</th>\n",
       "      <th>label</th>\n",
       "    </tr>\n",
       "  </thead>\n",
       "  <tbody>\n",
       "    <tr>\n",
       "      <th>1179055004553900032_twitter</th>\n",
       "      <td>i dont think im getting my baby them white 9 h...</td>\n",
       "      <td>[normal]</td>\n",
       "      <td>normal</td>\n",
       "    </tr>\n",
       "    <tr>\n",
       "      <th>1179063826874032128_twitter</th>\n",
       "      <td>we cannot continue calling ourselves feminists...</td>\n",
       "      <td>[normal]</td>\n",
       "      <td>normal</td>\n",
       "    </tr>\n",
       "    <tr>\n",
       "      <th>1178793830532956161_twitter</th>\n",
       "      <td>nawt yall niggers ignoring me</td>\n",
       "      <td>[hatespeech, normal]</td>\n",
       "      <td>normal</td>\n",
       "    </tr>\n",
       "    <tr>\n",
       "      <th>1179088797964763136_twitter</th>\n",
       "      <td>&lt;user&gt; i am bit confused coz chinese ppl can n...</td>\n",
       "      <td>[hatespeech, offensive]</td>\n",
       "      <td>hatespeech</td>\n",
       "    </tr>\n",
       "    <tr>\n",
       "      <th>1179085312976445440_twitter</th>\n",
       "      <td>this bitch in whataburger eating a burger with...</td>\n",
       "      <td>[hatespeech, offensive]</td>\n",
       "      <td>hatespeech</td>\n",
       "    </tr>\n",
       "    <tr>\n",
       "      <th>...</th>\n",
       "      <td>...</td>\n",
       "      <td>...</td>\n",
       "      <td>...</td>\n",
       "    </tr>\n",
       "    <tr>\n",
       "      <th>9989999_gab</th>\n",
       "      <td>if ur still on twitter tell carlton i said his...</td>\n",
       "      <td>[normal, offensive]</td>\n",
       "      <td>offensive</td>\n",
       "    </tr>\n",
       "    <tr>\n",
       "      <th>9990225_gab</th>\n",
       "      <td>when i first got on here and said i hate trump...</td>\n",
       "      <td>[normal, offensive]</td>\n",
       "      <td>offensive</td>\n",
       "    </tr>\n",
       "    <tr>\n",
       "      <th>9991681_gab</th>\n",
       "      <td>was macht der moslem wenn der zion gegen seine...</td>\n",
       "      <td>[normal, offensive]</td>\n",
       "      <td>normal</td>\n",
       "    </tr>\n",
       "    <tr>\n",
       "      <th>9992513_gab</th>\n",
       "      <td>it is awful look at world demographics asians ...</td>\n",
       "      <td>[hatespeech, offensive]</td>\n",
       "      <td>hatespeech</td>\n",
       "    </tr>\n",
       "    <tr>\n",
       "      <th>9998729_gab</th>\n",
       "      <td>the jewish globalist elite have only imported ...</td>\n",
       "      <td>[hatespeech, offensive]</td>\n",
       "      <td>offensive</td>\n",
       "    </tr>\n",
       "  </tbody>\n",
       "</table>\n",
       "<p>20148 rows × 3 columns</p>\n",
       "</div>"
      ],
      "text/plain": [
       "                                                                      sentence  \\\n",
       "1179055004553900032_twitter  i dont think im getting my baby them white 9 h...   \n",
       "1179063826874032128_twitter  we cannot continue calling ourselves feminists...   \n",
       "1178793830532956161_twitter                      nawt yall niggers ignoring me   \n",
       "1179088797964763136_twitter  <user> i am bit confused coz chinese ppl can n...   \n",
       "1179085312976445440_twitter  this bitch in whataburger eating a burger with...   \n",
       "...                                                                        ...   \n",
       "9989999_gab                  if ur still on twitter tell carlton i said his...   \n",
       "9990225_gab                  when i first got on here and said i hate trump...   \n",
       "9991681_gab                  was macht der moslem wenn der zion gegen seine...   \n",
       "9992513_gab                  it is awful look at world demographics asians ...   \n",
       "9998729_gab                  the jewish globalist elite have only imported ...   \n",
       "\n",
       "                                              lables       label  \n",
       "1179055004553900032_twitter                 [normal]      normal  \n",
       "1179063826874032128_twitter                 [normal]      normal  \n",
       "1178793830532956161_twitter     [hatespeech, normal]      normal  \n",
       "1179088797964763136_twitter  [hatespeech, offensive]  hatespeech  \n",
       "1179085312976445440_twitter  [hatespeech, offensive]  hatespeech  \n",
       "...                                              ...         ...  \n",
       "9989999_gab                      [normal, offensive]   offensive  \n",
       "9990225_gab                      [normal, offensive]   offensive  \n",
       "9991681_gab                      [normal, offensive]      normal  \n",
       "9992513_gab                  [hatespeech, offensive]  hatespeech  \n",
       "9998729_gab                  [hatespeech, offensive]   offensive  \n",
       "\n",
       "[20148 rows x 3 columns]"
      ]
     },
     "execution_count": 15,
     "metadata": {},
     "output_type": "execute_result"
    }
   ],
   "source": [
    "df_new.drop(\"id\", axis=1)"
   ]
  },
  {
   "cell_type": "code",
   "execution_count": 16,
   "metadata": {},
   "outputs": [],
   "source": [
    "df_new.to_csv(\"hatexplain.csv\")"
   ]
  },
  {
   "cell_type": "code",
   "execution_count": 19,
   "metadata": {},
   "outputs": [],
   "source": [
    "df_samll = df_new.sample(600)\n",
    "df_samll.to_csv(\"hatexplain_small.csv\")"
   ]
  },
  {
   "cell_type": "code",
   "execution_count": 1,
   "metadata": {},
   "outputs": [],
   "source": [
    "import pandas as pd\n",
    "df = pd.read_csv(\"../examples/df/price_service.csv\")\n",
    "df[\"id\"] = df[\"id\"].apply(lambda x: f\"s{x}\")\n",
    "df.set_index(\"id\", inplace=True)"
   ]
  },
  {
   "cell_type": "code",
   "execution_count": 2,
   "metadata": {},
   "outputs": [
    {
     "data": {
      "text/html": [
       "<div>\n",
       "<style scoped>\n",
       "    .dataframe tbody tr th:only-of-type {\n",
       "        vertical-align: middle;\n",
       "    }\n",
       "\n",
       "    .dataframe tbody tr th {\n",
       "        vertical-align: top;\n",
       "    }\n",
       "\n",
       "    .dataframe thead th {\n",
       "        text-align: right;\n",
       "    }\n",
       "</style>\n",
       "<table border=\"1\" class=\"dataframe\">\n",
       "  <thead>\n",
       "    <tr style=\"text-align: right;\">\n",
       "      <th></th>\n",
       "      <th>example</th>\n",
       "      <th>positive</th>\n",
       "      <th>label</th>\n",
       "    </tr>\n",
       "    <tr>\n",
       "      <th>id</th>\n",
       "      <th></th>\n",
       "      <th></th>\n",
       "      <th></th>\n",
       "    </tr>\n",
       "  </thead>\n",
       "  <tbody>\n",
       "    <tr>\n",
       "      <th>ss0</th>\n",
       "      <td>This particular location has a good check in d...</td>\n",
       "      <td>1</td>\n",
       "      <td>price</td>\n",
       "    </tr>\n",
       "    <tr>\n",
       "      <th>ss1</th>\n",
       "      <td>some of the items they sale here are a bit ove...</td>\n",
       "      <td>1</td>\n",
       "      <td>price</td>\n",
       "    </tr>\n",
       "    <tr>\n",
       "      <th>ss2</th>\n",
       "      <td>They have some great offers going on now with ...</td>\n",
       "      <td>1</td>\n",
       "      <td>price</td>\n",
       "    </tr>\n",
       "    <tr>\n",
       "      <th>ss3</th>\n",
       "      <td>Customer service told me nothing was rescheduled</td>\n",
       "      <td>0</td>\n",
       "      <td>service</td>\n",
       "    </tr>\n",
       "    <tr>\n",
       "      <th>ss4</th>\n",
       "      <td>The woman told me that her manager said yes th...</td>\n",
       "      <td>0</td>\n",
       "      <td>service</td>\n",
       "    </tr>\n",
       "  </tbody>\n",
       "</table>\n",
       "</div>"
      ],
      "text/plain": [
       "                                               example  positive    label\n",
       "id                                                                       \n",
       "ss0  This particular location has a good check in d...         1    price\n",
       "ss1  some of the items they sale here are a bit ove...         1    price\n",
       "ss2  They have some great offers going on now with ...         1    price\n",
       "ss3   Customer service told me nothing was rescheduled         0  service\n",
       "ss4  The woman told me that her manager said yes th...         0  service"
      ]
     },
     "execution_count": 2,
     "metadata": {},
     "output_type": "execute_result"
    }
   ],
   "source": [
    "df.head()"
   ]
  },
  {
   "cell_type": "code",
   "execution_count": 4,
   "metadata": {},
   "outputs": [],
   "source": [
    "import spacy\n",
    "\n",
    "nlp = spacy.load(\"en_core_web_sm\")\n",
    "def tokenizer(sent):\n",
    "    s = nlp(sent)\n",
    "    new_sent = \"\"\n",
    "    for i in s:\n",
    "        new_sent +=f\"{i} \"\n",
    "    return new_sent"
   ]
  },
  {
   "cell_type": "code",
   "execution_count": 5,
   "metadata": {},
   "outputs": [],
   "source": [
    "df['example'] = df['example'].apply(lambda x: tokenizer(x))"
   ]
  },
  {
   "cell_type": "code",
   "execution_count": 10,
   "metadata": {},
   "outputs": [
    {
     "data": {
      "text/html": [
       "<div>\n",
       "<style scoped>\n",
       "    .dataframe tbody tr th:only-of-type {\n",
       "        vertical-align: middle;\n",
       "    }\n",
       "\n",
       "    .dataframe tbody tr th {\n",
       "        vertical-align: top;\n",
       "    }\n",
       "\n",
       "    .dataframe thead th {\n",
       "        text-align: right;\n",
       "    }\n",
       "</style>\n",
       "<table border=\"1\" class=\"dataframe\">\n",
       "  <thead>\n",
       "    <tr style=\"text-align: right;\">\n",
       "      <th></th>\n",
       "      <th>example</th>\n",
       "      <th>positive</th>\n",
       "      <th>label</th>\n",
       "    </tr>\n",
       "    <tr>\n",
       "      <th>id</th>\n",
       "      <th></th>\n",
       "      <th></th>\n",
       "      <th></th>\n",
       "    </tr>\n",
       "  </thead>\n",
       "  <tbody>\n",
       "    <tr>\n",
       "      <th>ss0</th>\n",
       "      <td>This particular location has a good check in d...</td>\n",
       "      <td>1</td>\n",
       "      <td>price</td>\n",
       "    </tr>\n",
       "    <tr>\n",
       "      <th>ss1</th>\n",
       "      <td>some of the items they sale here are a bit ove...</td>\n",
       "      <td>1</td>\n",
       "      <td>price</td>\n",
       "    </tr>\n",
       "    <tr>\n",
       "      <th>ss2</th>\n",
       "      <td>They have some great offers going on now with ...</td>\n",
       "      <td>1</td>\n",
       "      <td>price</td>\n",
       "    </tr>\n",
       "    <tr>\n",
       "      <th>ss3</th>\n",
       "      <td>Customer service told me nothing was rescheduled</td>\n",
       "      <td>0</td>\n",
       "      <td>service</td>\n",
       "    </tr>\n",
       "    <tr>\n",
       "      <th>ss4</th>\n",
       "      <td>The woman told me that her manager said yes th...</td>\n",
       "      <td>0</td>\n",
       "      <td>service</td>\n",
       "    </tr>\n",
       "  </tbody>\n",
       "</table>\n",
       "</div>"
      ],
      "text/plain": [
       "                                               example  positive    label\n",
       "id                                                                       \n",
       "ss0  This particular location has a good check in d...         1    price\n",
       "ss1  some of the items they sale here are a bit ove...         1    price\n",
       "ss2  They have some great offers going on now with ...         1    price\n",
       "ss3  Customer service told me nothing was rescheduled          0  service\n",
       "ss4  The woman told me that her manager said yes th...         0  service"
      ]
     },
     "execution_count": 10,
     "metadata": {},
     "output_type": "execute_result"
    }
   ],
   "source": [
    "df.head()"
   ]
  },
  {
   "cell_type": "code",
   "execution_count": 11,
   "metadata": {},
   "outputs": [],
   "source": [
    "df.to_csv(\"../examples/df/price_service.csv\")"
   ]
  },
  {
   "cell_type": "code",
   "execution_count": 2,
   "metadata": {},
   "outputs": [],
   "source": [
    "import pandas as pd\n",
    "df = pd.read_csv(\"../cache/service_99914b932bd37a50b983c5e7c90ae93b.csv\")"
   ]
  },
  {
   "cell_type": "code",
   "execution_count": 5,
   "metadata": {},
   "outputs": [
    {
     "data": {
      "text/plain": [
       "['Customer service told me \" nothing was rescheduled\"\\n',\n",
       " \"The woman told me that her manager said yes they have the calls recorded , but he will not listen to them , and that she was ' proceeding to cancel this call ' ..\\n\",\n",
       " 'This particular location has a good check in deal.\\n',\n",
       " \"some of the items they sale here are a bit over priced but if you don't mind paying a bit extra this is the place to go. \\n\",\n",
       " 'They have some great offers going on now with even 70% off on some items.',\n",
       " 'Prices were reasonable and mission accomplished!\\n',\n",
       " '50$ for buffet and mind you i only ate crab legs']"
      ]
     },
     "execution_count": 5,
     "metadata": {},
     "output_type": "execute_result"
    }
   ],
   "source": [
    "df[\"sentences\"].values.tolist()"
   ]
  },
  {
   "cell_type": "code",
   "execution_count": null,
   "metadata": {},
   "outputs": [],
   "source": []
  }
 ],
 "metadata": {
  "interpreter": {
   "hash": "a25bcad2c992ed4a2be145129017787896f246deb7396e6b823d462a0062482c"
  },
  "kernelspec": {
   "display_name": "Python 3.9.12 ('py39')",
   "language": "python",
   "name": "python3"
  },
  "language_info": {
   "codemirror_mode": {
    "name": "ipython",
    "version": 3
   },
   "file_extension": ".py",
   "mimetype": "text/x-python",
   "name": "python",
   "nbconvert_exporter": "python",
   "pygments_lexer": "ipython3",
   "version": "3.9.12"
  },
  "orig_nbformat": 4
 },
 "nbformat": 4,
 "nbformat_minor": 2
}
