{
 "cells": [
  {
   "cell_type": "code",
   "execution_count": 1,
   "metadata": {},
   "outputs": [
    {
     "name": "stderr",
     "output_type": "stream",
     "text": [
      "/home/simret/miniconda3/envs/py39/lib/python3.9/site-packages/tqdm/auto.py:22: TqdmWarning: IProgress not found. Please update jupyter and ipywidgets. See https://ipywidgets.readthedocs.io/en/stable/user_install.html\n",
      "  from .autonotebook import tqdm as notebook_tqdm\n"
     ]
    }
   ],
   "source": [
    "from base64 import encode\n",
    "import spacy\n",
    "from spacy.matcher import Matcher\n",
    "import hashlib\n",
    "import json\n",
    "import numpy as np\n",
    "from sklearn.metrics import precision_recall_fscore_support\n",
    "\n",
    "\n",
    "nlp = spacy.load(\"en_core_web_sm\")\n"
   ]
  },
  {
   "cell_type": "code",
   "execution_count": 2,
   "metadata": {},
   "outputs": [],
   "source": [
    "def expand_working_list(pat):\n",
    "    result = []\n",
    "    if (pat == None):\n",
    "        return []\n",
    "    else:\n",
    "        working_list = []\n",
    "        optionals = []\n",
    "        combinations = pat.split(\"+\")\n",
    "        for pattern in combinations:\n",
    "            patterns_within = pattern.split(\"|\")\n",
    "            if (len(patterns_within) > 1):\n",
    "                # result.append(working_list)\n",
    "                # working_list = []\n",
    "                optional_patterns = []\n",
    "                for p in patterns_within:\n",
    "                    if (p[0] == \"[\"):\n",
    "                        temp = {\"LEMMA\": {\"IN\": [p[1:-1]]}, \"OP\": \"+\"}\n",
    "                        optional_patterns.append(temp)\n",
    "                    elif (p[0] == \"$\"):\n",
    "                        temp = {\"ENT_TYPE\": p[1:], \"OP\": \"+\"}\n",
    "                        optional_patterns.append(temp)\n",
    "                    else:\n",
    "                        temp = {\"POS\": p, \"OP\": \"+\"}\n",
    "                        optional_patterns.append(temp)\n",
    "                count = len(working_list)\n",
    "                if (count):\n",
    "                    while (count):\n",
    "                        count -= 1\n",
    "                        temp = working_list.pop(0)\n",
    "                        for opt in optional_patterns:\n",
    "                            updated_pattern = temp + [opt]\n",
    "                            working_list.append(updated_pattern)\n",
    "                else:\n",
    "                    working_list = [[x] for x in optional_patterns]\n",
    "\n",
    "                # result.append(optional_patterns)\n",
    "            else:\n",
    "                if (pattern == \"*\"):\n",
    "                    temp = {\"OP\": \"?\"}\n",
    "                    # temp = {\"OP\": \"?\"}\n",
    "                elif (pattern[0] == \"[\"):\n",
    "                    temp = {\"LEMMA\": {\"IN\": [pattern[1:-1]]}, \"OP\": \"+\"}\n",
    "                elif (pattern[0] == \"$\"):\n",
    "                    temp = {\"ENT_TYPE\": pattern[1:], \"OP\": \"+\"}\n",
    "                else:\n",
    "                    temp = {\"POS\": pattern, \"OP\": \"+\"}\n",
    "                if (len(working_list) == 0):\n",
    "                    working_list.append([temp])\n",
    "                else:\n",
    "                    for i in range(len(working_list)):\n",
    "                        working_list[i].append(temp)\n",
    "        return working_list"
   ]
  },
  {
   "cell_type": "code",
   "execution_count": 3,
   "metadata": {},
   "outputs": [],
   "source": [
    "\n",
    "def check_matching(sent, working_list, explain=False):\n",
    "    matcher = Matcher(nlp.vocab)\n",
    "    for index, patterns in enumerate(working_list):\n",
    "        matcher.add(f\"rule{index}\", [patterns])\n",
    "    doc = nlp(sent)\n",
    "    for i in doc:\n",
    "        print(i)\n",
    "    print(len(doc[:]))\n",
    "    matches = matcher(doc)\n",
    "    if(matches is not None and len(matches)>0):\n",
    "        for id, start, end in matches:\n",
    "            if(str(doc[start:end]).strip() !=\"\"):\n",
    "                if(explain):\n",
    "                    return (True, [str(doc[start:end]).strip(), start, end])\n",
    "                return True\n",
    "    if(explain):\n",
    "        return (False, \"\")\n",
    "    return False"
   ]
  },
  {
   "cell_type": "code",
   "execution_count": 4,
   "metadata": {},
   "outputs": [],
   "source": [
    "sent = \"Unbelievable, it was me & my mother so it was a total of 100$ i could have gone to red lobster and ate better quality of food.\"\n",
    "pattern = \"NUM+*\""
   ]
  },
  {
   "cell_type": "code",
   "execution_count": 6,
   "metadata": {},
   "outputs": [],
   "source": [
    "def tokenizer(sent):\n",
    "    s = nlp(sent)\n",
    "    new_sent = \"\"\n",
    "    for i in s:\n",
    "        new_sent +=f\"{i} \"\n",
    "    return new_sent"
   ]
  },
  {
   "cell_type": "code",
   "execution_count": 8,
   "metadata": {},
   "outputs": [],
   "source": [
    "new_sent = tokenizer(sent=sent)"
   ]
  },
  {
   "cell_type": "code",
   "execution_count": 10,
   "metadata": {},
   "outputs": [
    {
     "data": {
      "text/plain": [
       "'100'"
      ]
     },
     "execution_count": 10,
     "metadata": {},
     "output_type": "execute_result"
    }
   ],
   "source": [
    "new_sent.split(\" \")[14]"
   ]
  },
  {
   "cell_type": "code",
   "execution_count": 5,
   "metadata": {},
   "outputs": [],
   "source": [
    "working_list = expand_working_list(pattern)"
   ]
  },
  {
   "cell_type": "code",
   "execution_count": 45,
   "metadata": {},
   "outputs": [
    {
     "name": "stdout",
     "output_type": "stream",
     "text": [
      "Unbelievable\n",
      ",\n",
      "it\n",
      "was\n",
      "me\n",
      "&\n",
      "my\n",
      "mother\n",
      "so\n",
      "it\n",
      "was\n",
      "a\n",
      "total\n",
      "of\n",
      "100\n",
      "$\n",
      "i\n",
      "could\n",
      "have\n",
      "gone\n",
      "to\n",
      "red\n",
      "lobster\n",
      "and\n",
      "ate\n",
      "better\n",
      "quality\n",
      "of\n",
      "food\n",
      ".\n",
      "30\n"
     ]
    },
    {
     "data": {
      "text/plain": [
       "(True, ['100', 14, 15])"
      ]
     },
     "execution_count": 45,
     "metadata": {},
     "output_type": "execute_result"
    }
   ],
   "source": [
    "\n",
    "check_matching(sent, working_list, explain=True)\n"
   ]
  },
  {
   "cell_type": "code",
   "execution_count": 37,
   "metadata": {},
   "outputs": [
    {
     "data": {
      "text/plain": [
       "27"
      ]
     },
     "execution_count": 37,
     "metadata": {},
     "output_type": "execute_result"
    }
   ],
   "source": [
    "len(sent.split(\" \"))"
   ]
  },
  {
   "cell_type": "code",
   "execution_count": 46,
   "metadata": {},
   "outputs": [
    {
     "data": {
      "text/plain": [
       "'100$'"
      ]
     },
     "execution_count": 46,
     "metadata": {},
     "output_type": "execute_result"
    }
   ],
   "source": [
    "sent.split(\" \")[13]"
   ]
  },
  {
   "cell_type": "code",
   "execution_count": null,
   "metadata": {},
   "outputs": [],
   "source": []
  }
 ],
 "metadata": {
  "interpreter": {
   "hash": "a25bcad2c992ed4a2be145129017787896f246deb7396e6b823d462a0062482c"
  },
  "kernelspec": {
   "display_name": "Python 3.9.12 ('py39')",
   "language": "python",
   "name": "python3"
  },
  "language_info": {
   "codemirror_mode": {
    "name": "ipython",
    "version": 3
   },
   "file_extension": ".py",
   "mimetype": "text/x-python",
   "name": "python",
   "nbconvert_exporter": "python",
   "pygments_lexer": "ipython3",
   "version": "3.9.12"
  },
  "orig_nbformat": 4
 },
 "nbformat": 4,
 "nbformat_minor": 2
}
