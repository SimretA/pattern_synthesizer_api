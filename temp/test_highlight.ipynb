{
 "cells": [
  {
   "cell_type": "code",
   "execution_count": 2,
   "metadata": {},
   "outputs": [
    {
     "name": "stderr",
     "output_type": "stream",
     "text": [
      "/home/simret/miniconda3/envs/py39/lib/python3.9/site-packages/tqdm/auto.py:22: TqdmWarning: IProgress not found. Please update jupyter and ipywidgets. See https://ipywidgets.readthedocs.io/en/stable/user_install.html\n",
      "  from .autonotebook import tqdm as notebook_tqdm\n"
     ]
    }
   ],
   "source": [
    "from base64 import encode\n",
    "import spacy\n",
    "from spacy.matcher import Matcher\n",
    "import hashlib\n",
    "import json\n",
    "import numpy as np\n",
    "from sklearn.metrics import precision_recall_fscore_support\n",
    "\n",
    "\n",
    "nlp = spacy.load(\"en_core_web_sm\")\n"
   ]
  },
  {
   "cell_type": "code",
   "execution_count": 3,
   "metadata": {},
   "outputs": [],
   "source": [
    "def expand_working_list(pat):\n",
    "    result = []\n",
    "    if (pat == None):\n",
    "        return []\n",
    "    else:\n",
    "        working_list = []\n",
    "        optionals = []\n",
    "        combinations = pat.split(\"+\")\n",
    "        for pattern in combinations:\n",
    "            patterns_within = pattern.split(\"|\")\n",
    "            if (len(patterns_within) > 1):\n",
    "                # result.append(working_list)\n",
    "                # working_list = []\n",
    "                optional_patterns = []\n",
    "                for p in patterns_within:\n",
    "                    if (p[0] == \"[\"):\n",
    "                        temp = {\"LEMMA\": {\"IN\": [p[1:-1]]}, \"OP\": \"+\"}\n",
    "                        optional_patterns.append(temp)\n",
    "                    elif (p[0] == \"$\"):\n",
    "                        temp = {\"ENT_TYPE\": p[1:], \"OP\": \"+\"}\n",
    "                        optional_patterns.append(temp)\n",
    "                    else:\n",
    "                        temp = {\"POS\": p, \"OP\": \"+\"}\n",
    "                        optional_patterns.append(temp)\n",
    "                count = len(working_list)\n",
    "                if (count):\n",
    "                    while (count):\n",
    "                        count -= 1\n",
    "                        temp = working_list.pop(0)\n",
    "                        for opt in optional_patterns:\n",
    "                            updated_pattern = temp + [opt]\n",
    "                            working_list.append(updated_pattern)\n",
    "                else:\n",
    "                    working_list = [[x] for x in optional_patterns]\n",
    "\n",
    "                # result.append(optional_patterns)\n",
    "            else:\n",
    "                if (pattern == \"*\"):\n",
    "                    temp = {\"OP\": \"?\"}\n",
    "                    # temp = {\"OP\": \"?\"}\n",
    "                elif (pattern[0] == \"[\"):\n",
    "                    temp = {\"LEMMA\": {\"IN\": [pattern[1:-1]]}, \"OP\": \"+\"}\n",
    "                elif (pattern[0] == \"$\"):\n",
    "                    temp = {\"ENT_TYPE\": pattern[1:], \"OP\": \"+\"}\n",
    "                else:\n",
    "                    temp = {\"POS\": pattern, \"OP\": \"+\"}\n",
    "                if (len(working_list) == 0):\n",
    "                    working_list.append([temp])\n",
    "                else:\n",
    "                    for i in range(len(working_list)):\n",
    "                        working_list[i].append(temp)\n",
    "        return working_list"
   ]
  },
  {
   "cell_type": "code",
   "execution_count": 59,
   "metadata": {},
   "outputs": [],
   "source": [
    "from functools import reduce\n",
    "\n",
    "def get_spanning(matches):\n",
    "    ranges = [(x[1],x[2]) for x in matches]\n",
    "    reducer = (lambda acc, el: acc[:-1:] + [(min(*acc[-1], *el), max(*acc[-1], *el))]\n",
    "    if acc[-1][1] > el[0] else acc + [el] )\n",
    "    spanning = reduce(reducer, ranges[1::], [ranges[0]])\n",
    "    \n",
    "    result_matches = []\n",
    "    for i, j in spanning:\n",
    "        result_matches.append([sent.split(\" \")[i:j], i, j])\n",
    "    return result_matches\n",
    "\n"
   ]
  },
  {
   "cell_type": "code",
   "execution_count": 60,
   "metadata": {},
   "outputs": [],
   "source": [
    "\n",
    "def check_matching(sent, working_list, explain=False):\n",
    "    matcher = Matcher(nlp.vocab)\n",
    "    for index, patterns in enumerate(working_list):\n",
    "        matcher.add(f\"rule{index}\", [patterns])\n",
    "    doc = nlp(sent)\n",
    "    \n",
    "    matches = matcher(doc)\n",
    "    if(matches is not None and len(matches)>0):\n",
    "        if(explain):\n",
    "            return(True, get_spanning(matches) )\n",
    "        for id, start, end in matches:\n",
    "            if(str(doc[start:end]).strip() !=\"\"):\n",
    "                return True\n",
    "    if(explain):\n",
    "        return (False, \"\")\n",
    "    return False"
   ]
  },
  {
   "cell_type": "code",
   "execution_count": 61,
   "metadata": {},
   "outputs": [],
   "source": [
    "sent = \"I purchased $ 200 a Gibeon Meteorite and black zirconium wedding band from Rings Unique for approximately $ 1200 .\"\n",
    "pattern = \"$MONEY\""
   ]
  },
  {
   "cell_type": "code",
   "execution_count": 62,
   "metadata": {},
   "outputs": [],
   "source": [
    "def tokenizer(sent):\n",
    "    s = nlp(sent)\n",
    "    new_sent = \"\"\n",
    "    for i in s:\n",
    "        new_sent +=f\"{i} \"\n",
    "    return new_sent"
   ]
  },
  {
   "cell_type": "code",
   "execution_count": 63,
   "metadata": {},
   "outputs": [],
   "source": [
    "working_list = expand_working_list(pattern)"
   ]
  },
  {
   "cell_type": "code",
   "execution_count": 68,
   "metadata": {},
   "outputs": [],
   "source": [
    "\n",
    "mm =check_matching(sent, working_list, explain=True)\n"
   ]
  },
  {
   "cell_type": "code",
   "execution_count": 69,
   "metadata": {},
   "outputs": [
    {
     "data": {
      "text/plain": [
       "(True, [[['200'], 3, 4], [['approximately', '$', '1200'], 16, 19]])"
      ]
     },
     "execution_count": 69,
     "metadata": {},
     "output_type": "execute_result"
    }
   ],
   "source": [
    "mm"
   ]
  },
  {
   "cell_type": "code",
   "execution_count": null,
   "metadata": {},
   "outputs": [],
   "source": []
  }
 ],
 "metadata": {
  "interpreter": {
   "hash": "a25bcad2c992ed4a2be145129017787896f246deb7396e6b823d462a0062482c"
  },
  "kernelspec": {
   "display_name": "Python 3.9.12 ('py39')",
   "language": "python",
   "name": "python3"
  },
  "language_info": {
   "codemirror_mode": {
    "name": "ipython",
    "version": 3
   },
   "file_extension": ".py",
   "mimetype": "text/x-python",
   "name": "python",
   "nbconvert_exporter": "python",
   "pygments_lexer": "ipython3",
   "version": "3.9.12"
  },
  "orig_nbformat": 4
 },
 "nbformat": 4,
 "nbformat_minor": 2
}
